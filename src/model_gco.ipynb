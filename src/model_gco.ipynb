{
  "nbformat": 4,
  "nbformat_minor": 0,
  "metadata": {
    "colab": {
      "name": "model_gco.ipynb",
      "provenance": [],
      "authorship_tag": "ABX9TyOTGfgBL0qBZdAeW2pmWPb3",
      "include_colab_link": true
    },
    "kernelspec": {
      "name": "python3",
      "display_name": "Python 3"
    },
    "accelerator": "GPU"
  },
  "cells": [
    {
      "cell_type": "markdown",
      "metadata": {
        "id": "view-in-github",
        "colab_type": "text"
      },
      "source": [
        "<a href=\"https://colab.research.google.com/github/Tu-Libro-a-Ciegas/TLAC_model/blob/master/src/model_gco.ipynb\" target=\"_parent\"><img src=\"https://colab.research.google.com/assets/colab-badge.svg\" alt=\"Open In Colab\"/></a>"
      ]
    },
    {
      "cell_type": "code",
      "metadata": {
        "id": "xqo-jGAB4O0z",
        "colab_type": "code",
        "colab": {}
      },
      "source": [
        "!pip install langdetect"
      ],
      "execution_count": 0,
      "outputs": []
    },
    {
      "cell_type": "code",
      "metadata": {
        "colab_type": "code",
        "id": "Xm7ksj7t3s7R",
        "colab": {}
      },
      "source": [
        "! git clone https://github.com/n-waves/multifit.git"
      ],
      "execution_count": 0,
      "outputs": []
    },
    {
      "cell_type": "code",
      "metadata": {
        "id": "4anO8iv84q1X",
        "colab_type": "code",
        "colab": {}
      },
      "source": [
        "! pip install multifit/"
      ],
      "execution_count": 0,
      "outputs": []
    },
    {
      "cell_type": "code",
      "metadata": {
        "id": "ORSU8yRP4rAx",
        "colab_type": "code",
        "colab": {}
      },
      "source": [
        "! pip install -r multifit/requirements.txt"
      ],
      "execution_count": 0,
      "outputs": []
    },
    {
      "cell_type": "code",
      "metadata": {
        "id": "ziWw8nW52KuE",
        "colab_type": "code",
        "colab": {}
      },
      "source": [
        "from google.cloud import bigquery\n",
        "from langdetect import detect\n",
        "from fastai.text import *\n",
        "import pathlib\n",
        "import multifit\n",
        "from multifit.datasets import ULMFiTDataset, Dataset\n",
        "from google.colab import auth"
      ],
      "execution_count": 0,
      "outputs": []
    },
    {
      "cell_type": "code",
      "metadata": {
        "id": "GGXaxQe-FDca",
        "colab_type": "code",
        "colab": {}
      },
      "source": [
        "auth.authenticate_user()"
      ],
      "execution_count": 0,
      "outputs": []
    },
    {
      "cell_type": "code",
      "metadata": {
        "id": "ICHu5wdwGFFs",
        "colab_type": "code",
        "colab": {}
      },
      "source": [
        "project_id = 'tlac-vision'\n",
        "\n",
        "client = bigquery.Client(project=project_id)\n",
        "df = client.query('''\n",
        "  SELECT\n",
        "    *\n",
        "  FROM\n",
        "    `tlac-vision.book_backend.train_categories`\n",
        "''').to_dataframe()"
      ],
      "execution_count": 0,
      "outputs": []
    },
    {
      "cell_type": "code",
      "metadata": {
        "id": "DfWP3207FScH",
        "colab_type": "code",
        "colab": {
          "base_uri": "https://localhost:8080/",
          "height": 419
        },
        "outputId": "9791b30a-5c35-4a8d-c83c-462143aa3b3e"
      },
      "source": [
        "# sorting dataframe by book category, from A to Z\n",
        "df = df.sort_values(['category'], ascending=True)\n",
        "# dropping duplicate rows\n",
        "df = df.drop_duplicates(['title']).reset_index(drop=True)\n",
        "df"
      ],
      "execution_count": 11,
      "outputs": [
        {
          "output_type": "execute_result",
          "data": {
            "text/html": [
              "<div>\n",
              "<style scoped>\n",
              "    .dataframe tbody tr th:only-of-type {\n",
              "        vertical-align: middle;\n",
              "    }\n",
              "\n",
              "    .dataframe tbody tr th {\n",
              "        vertical-align: top;\n",
              "    }\n",
              "\n",
              "    .dataframe thead th {\n",
              "        text-align: right;\n",
              "    }\n",
              "</style>\n",
              "<table border=\"1\" class=\"dataframe\">\n",
              "  <thead>\n",
              "    <tr style=\"text-align: right;\">\n",
              "      <th></th>\n",
              "      <th>category</th>\n",
              "      <th>title</th>\n",
              "      <th>description</th>\n",
              "    </tr>\n",
              "  </thead>\n",
              "  <tbody>\n",
              "    <tr>\n",
              "      <th>0</th>\n",
              "      <td>anthropology</td>\n",
              "      <td>El otro es mi espejo</td>\n",
              "      <td>\"Después de 60 años como misionero en el Perú ...</td>\n",
              "    </tr>\n",
              "    <tr>\n",
              "      <th>1</th>\n",
              "      <td>anthropology</td>\n",
              "      <td>Diccionario de antropología</td>\n",
              "      <td>A lo largo de los últimos cien años la antropo...</td>\n",
              "    </tr>\n",
              "    <tr>\n",
              "      <th>2</th>\n",
              "      <td>anthropology</td>\n",
              "      <td>La cultura como praxis</td>\n",
              "      <td>En este libro, uno de los principales teoricos...</td>\n",
              "    </tr>\n",
              "    <tr>\n",
              "      <th>3</th>\n",
              "      <td>anthropology</td>\n",
              "      <td>El fuego. Mitos, ritos y realidades</td>\n",
              "      <td>El fuego, presente ya en los inicios del proce...</td>\n",
              "    </tr>\n",
              "    <tr>\n",
              "      <th>4</th>\n",
              "      <td>anthropology</td>\n",
              "      <td>Tierra encantada</td>\n",
              "      <td>Este ambicioso tratado sobre el fenómeno relig...</td>\n",
              "    </tr>\n",
              "    <tr>\n",
              "      <th>...</th>\n",
              "      <td>...</td>\n",
              "      <td>...</td>\n",
              "      <td>...</td>\n",
              "    </tr>\n",
              "    <tr>\n",
              "      <th>2753</th>\n",
              "      <td>sociology</td>\n",
              "      <td>Las tres culturas</td>\n",
              "      <td>An lisis de la relaci n llena de tensiones ent...</td>\n",
              "    </tr>\n",
              "    <tr>\n",
              "      <th>2754</th>\n",
              "      <td>sociology</td>\n",
              "      <td>Antología de Orlando Fals Borda</td>\n",
              "      <td>Presenta una selección de escritos del sociólo...</td>\n",
              "    </tr>\n",
              "    <tr>\n",
              "      <th>2755</th>\n",
              "      <td>sociology</td>\n",
              "      <td>Filosofía y sociología en Jesús Ibáñez</td>\n",
              "      <td>“Pocas veces un intelectual ha metabolizado co...</td>\n",
              "    </tr>\n",
              "    <tr>\n",
              "      <th>2756</th>\n",
              "      <td>sociology</td>\n",
              "      <td>Después del divorcio</td>\n",
              "      <td>El presente trabajo es un estudio de los efect...</td>\n",
              "    </tr>\n",
              "    <tr>\n",
              "      <th>2757</th>\n",
              "      <td>sociology</td>\n",
              "      <td>Los Consejos Europeos 1998-2001</td>\n",
              "      <td>Recoge: 1. Consejo Europeo de Cardiff - 2. Con...</td>\n",
              "    </tr>\n",
              "  </tbody>\n",
              "</table>\n",
              "<p>2758 rows × 3 columns</p>\n",
              "</div>"
            ],
            "text/plain": [
              "          category  ...                                        description\n",
              "0     anthropology  ...  \"Después de 60 años como misionero en el Perú ...\n",
              "1     anthropology  ...  A lo largo de los últimos cien años la antropo...\n",
              "2     anthropology  ...  En este libro, uno de los principales teoricos...\n",
              "3     anthropology  ...  El fuego, presente ya en los inicios del proce...\n",
              "4     anthropology  ...  Este ambicioso tratado sobre el fenómeno relig...\n",
              "...            ...  ...                                                ...\n",
              "2753     sociology  ...  An lisis de la relaci n llena de tensiones ent...\n",
              "2754     sociology  ...  Presenta una selección de escritos del sociólo...\n",
              "2755     sociology  ...  “Pocas veces un intelectual ha metabolizado co...\n",
              "2756     sociology  ...  El presente trabajo es un estudio de los efect...\n",
              "2757     sociology  ...  Recoge: 1. Consejo Europeo de Cardiff - 2. Con...\n",
              "\n",
              "[2758 rows x 3 columns]"
            ]
          },
          "metadata": {
            "tags": []
          },
          "execution_count": 11
        }
      ]
    }
  ]
}