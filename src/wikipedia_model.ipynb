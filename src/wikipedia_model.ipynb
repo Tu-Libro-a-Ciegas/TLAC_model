{
  "nbformat": 4,
  "nbformat_minor": 0,
  "metadata": {
    "colab": {
      "name": "wikipedia_model.ipynb",
      "provenance": [],
      "authorship_tag": "ABX9TyOJcmWzKnol4wmsEz8zGgQU"
    },
    "kernelspec": {
      "name": "python3",
      "display_name": "Python 3"
    },
    "accelerator": "GPU"
  },
  "cells": [
    {
      "cell_type": "markdown",
      "metadata": {
        "id": "X9CZGePic3VD",
        "colab_type": "text"
      },
      "source": [
        "**Wikipedia spanish language model** "
      ]
    },
    {
      "cell_type": "code",
      "metadata": {
        "id": "5Jad23tW68xw",
        "colab_type": "code",
        "colab": {}
      },
      "source": [
        "!pip install -q gwpy"
      ],
      "execution_count": null,
      "outputs": []
    },
    {
      "cell_type": "code",
      "metadata": {
        "id": "TCM0-2g-ZKLg",
        "colab_type": "code",
        "colab": {}
      },
      "source": [
        "import zipfile\n",
        "from google.colab import drive\n",
        "from fastai.text import *\n",
        "import os"
      ],
      "execution_count": null,
      "outputs": []
    },
    {
      "cell_type": "code",
      "metadata": {
        "id": "D6HMztMddV7m",
        "colab_type": "code",
        "colab": {
          "base_uri": "https://localhost:8080/",
          "height": 122
        },
        "outputId": "c0a7d879-4609-4926-dc5e-644dc6d28c1c"
      },
      "source": [
        "drive.mount('/content/drive/')"
      ],
      "execution_count": null,
      "outputs": [
        {
          "output_type": "stream",
          "text": [
            "Go to this URL in a browser: https://accounts.google.com/o/oauth2/auth?client_id=947318989803-6bn6qk8qdgf4n4g3pfee6491hc0brc4i.apps.googleusercontent.com&redirect_uri=urn%3aietf%3awg%3aoauth%3a2.0%3aoob&response_type=code&scope=email%20https%3a%2f%2fwww.googleapis.com%2fauth%2fdocs.test%20https%3a%2f%2fwww.googleapis.com%2fauth%2fdrive%20https%3a%2f%2fwww.googleapis.com%2fauth%2fdrive.photos.readonly%20https%3a%2f%2fwww.googleapis.com%2fauth%2fpeopleapi.readonly\n",
            "\n",
            "Enter your authorization code:\n",
            "··········\n",
            "Mounted at /content/drive/\n"
          ],
          "name": "stdout"
        }
      ]
    },
    {
      "cell_type": "code",
      "metadata": {
        "id": "XGkY7ysWaWoa",
        "colab_type": "code",
        "colab": {}
      },
      "source": [
        "!rm -rf wikipedia_articles\n",
        "!rm -rf w_train"
      ],
      "execution_count": null,
      "outputs": []
    },
    {
      "cell_type": "code",
      "metadata": {
        "id": "r3epU3kvd3zo",
        "colab_type": "code",
        "colab": {}
      },
      "source": [
        "#%%capture to not show cell output-- too long\n",
        "%%capture\n",
        "!unzip -q \"/content/drive/My Drive/Colab Notebooks/TLAC/wiki_art.zip\""
      ],
      "execution_count": null,
      "outputs": []
    },
    {
      "cell_type": "code",
      "metadata": {
        "id": "0Nj5IePIVLZ5",
        "colab_type": "code",
        "colab": {
          "base_uri": "https://localhost:8080/",
          "height": 34
        },
        "outputId": "e4b90728-4257-42d1-de7c-27176a758038"
      },
      "source": [
        "!mkdir w_train\n",
        "!mkdir w_test"
      ],
      "execution_count": null,
      "outputs": [
        {
          "output_type": "stream",
          "text": [
            "mkdir: cannot create directory ‘w_test’: File exists\n"
          ],
          "name": "stdout"
        }
      ]
    },
    {
      "cell_type": "code",
      "metadata": {
        "id": "LrqdHojAJ3By",
        "colab_type": "code",
        "colab": {}
      },
      "source": [
        "import re\n",
        "\n",
        "path=\"/content/wikipedia_articles/\"\n",
        "\n",
        "listt = os.listdir(path)\n",
        "\n",
        "#for filename in listt:\n",
        "#  os.rename(os.path.join(path, filename), os.path.join(path, filename.replace(\" \",\"_\")))\n",
        "\n",
        "for filename in listt:\n",
        "  os.rename(os.path.join(path, filename), os.path.join(path, re.sub('[^A-Za-z0-9]+(?![^.]*$)', '',filename)))"
      ],
      "execution_count": null,
      "outputs": []
    },
    {
      "cell_type": "code",
      "metadata": {
        "id": "t1gNIjb96Dfw",
        "colab_type": "code",
        "colab": {}
      },
      "source": [
        "!ls \"/content/wikipedia_articles\""
      ],
      "execution_count": null,
      "outputs": []
    },
    {
      "cell_type": "code",
      "metadata": {
        "id": "KkmUBDdQZpN0",
        "colab_type": "code",
        "colab": {
          "base_uri": "https://localhost:8080/",
          "height": 51
        },
        "outputId": "d449b5b9-9b08-45b3-fd18-092afe2c207d"
      },
      "source": [
        "number_files = len(listt)\n",
        "train_number=round(number_files*0.85)\n",
        "test_number=number_files-train_number\n",
        "\n",
        "print(\"training_set_total={} \".format(train_number))\n",
        "print(\"test_set_total={} \".format(test_number))"
      ],
      "execution_count": null,
      "outputs": [
        {
          "output_type": "stream",
          "text": [
            "training_set_total=103748 \n",
            "test_set_total=18308 \n"
          ],
          "name": "stdout"
        }
      ]
    },
    {
      "cell_type": "code",
      "metadata": {
        "id": "IXL3SWx7PgMM",
        "colab_type": "code",
        "colab": {}
      },
      "source": [
        "def split_sets(total_count,destiny):\n",
        "  \n",
        "  count=0\n",
        "  for file in os.listdir(path):\n",
        "      if count<total_count:\n",
        "          dir=\"{}{}\".format(path,file)\n",
        "          !mv $dir $destiny  \n",
        "          count+=1\n",
        "          print(count)"
      ],
      "execution_count": 49,
      "outputs": []
    },
    {
      "cell_type": "code",
      "metadata": {
        "id": "DCZv1JzxRFgv",
        "colab_type": "code",
        "colab": {}
      },
      "source": [
        "split_sets(train_number,\"/content/w_train\")\n"
      ],
      "execution_count": null,
      "outputs": []
    },
    {
      "cell_type": "code",
      "metadata": {
        "id": "iaVcOXPzr-T-",
        "colab_type": "code",
        "colab": {}
      },
      "source": [
        "split_sets(test_number,\"/content/w_test\")"
      ],
      "execution_count": null,
      "outputs": []
    },
    {
      "cell_type": "code",
      "metadata": {
        "id": "sAcKIIgHeJfm",
        "colab_type": "code",
        "colab": {}
      },
      "source": [
        "bs=16\n",
        "txt_proc = [\n",
        "    TokenizeProcessor(tokenizer=Tokenizer(lang='es') ),\n",
        "    NumericalizeProcessor(max_vocab=10000 )\n",
        "]\n",
        "\n",
        "#https://docs.fast.ai/text.data.html#TokenizeProcessor"
      ],
      "execution_count": null,
      "outputs": []
    },
    {
      "cell_type": "code",
      "metadata": {
        "id": "k54CuinM4Hps",
        "colab_type": "code",
        "colab": {}
      },
      "source": [
        "data_lm = (TextList.from_folder(path_art,processor=txt_proc)\n",
        "          filter_by_folder(include=['train', 'test']) \n",
        "          .split_subsets(train_size=0.8, valid_size=0.2,seed=100)\n",
        "          .label_for_lm()           \n",
        "          #predicting the next word given the previous ones\n",
        "          .databunch(bs=bs))"
      ],
      "execution_count": null,
      "outputs": []
    },
    {
      "cell_type": "code",
      "metadata": {
        "id": "hUU0d5-7eLrR",
        "colab_type": "code",
        "colab": {}
      },
      "source": [
        "data_lm.show_batch()"
      ],
      "execution_count": null,
      "outputs": []
    },
    {
      "cell_type": "code",
      "metadata": {
        "id": "c4gAArpH5q6H",
        "colab_type": "code",
        "colab": {}
      },
      "source": [
        "data_lm.save('data_lm.pkl')"
      ],
      "execution_count": null,
      "outputs": []
    },
    {
      "cell_type": "code",
      "metadata": {
        "id": "deR8HizA6ddY",
        "colab_type": "code",
        "colab": {}
      },
      "source": [
        "data_lm = load_data(path_art, 'data_lm.pkl', bs=bs)"
      ],
      "execution_count": null,
      "outputs": []
    }
  ]
}