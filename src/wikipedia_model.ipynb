{
  "nbformat": 4,
  "nbformat_minor": 0,
  "metadata": {
    "colab": {
      "name": "wikipedia_model.ipynb",
      "provenance": [],
      "toc_visible": true,
      "authorship_tag": "ABX9TyNL1o9b4U46FR76+rYMPfTq"
    },
    "kernelspec": {
      "name": "python3",
      "display_name": "Python 3"
    },
    "accelerator": "GPU"
  },
  "cells": [
    {
      "cell_type": "markdown",
      "metadata": {
        "id": "X9CZGePic3VD",
        "colab_type": "text"
      },
      "source": [
        "**Wikipedia spanish language model** "
      ]
    },
    {
      "cell_type": "code",
      "metadata": {
        "id": "2mAto-n4FNEc",
        "colab_type": "code",
        "colab": {}
      },
      "source": [
        "!git clone https://github.com/fastai/fastai2.git"
      ],
      "execution_count": null,
      "outputs": []
    },
    {
      "cell_type": "code",
      "metadata": {
        "id": "hJs2N8y2IyU6",
        "colab_type": "code",
        "colab": {}
      },
      "source": [
        "!pip install fastai2"
      ],
      "execution_count": null,
      "outputs": []
    },
    {
      "cell_type": "code",
      "metadata": {
        "id": "TCM0-2g-ZKLg",
        "colab_type": "code",
        "colab": {}
      },
      "source": [
        "from google.colab import drive, files\n",
        "import zipfile\n",
        "import os\n",
        "import re\n",
        "from pathlib import Path\n",
        "from fastai2.text.all import *\n",
        "import dill as pickle"
      ],
      "execution_count": null,
      "outputs": []
    },
    {
      "cell_type": "markdown",
      "metadata": {
        "id": "dQLc4AoH9HEU",
        "colab_type": "text"
      },
      "source": [
        "# Data preparation (Only run to create pickle file)"
      ]
    },
    {
      "cell_type": "markdown",
      "metadata": {
        "id": "cL-GJbSP-9sO",
        "colab_type": "text"
      },
      "source": [
        "Connecting drive, train and test set organization, tokenization, numericalization and creation of LMDataLoader"
      ]
    },
    {
      "cell_type": "code",
      "metadata": {
        "id": "D6HMztMddV7m",
        "colab_type": "code",
        "colab": {}
      },
      "source": [
        "drive.mount('/content/drive/')"
      ],
      "execution_count": null,
      "outputs": []
    },
    {
      "cell_type": "code",
      "metadata": {
        "id": "SgPf2sqP3gpV",
        "colab_type": "code",
        "colab": {}
      },
      "source": [
        "#to not show cell output-- too long\n",
        "%%capture\n",
        "!unzip -q \"/content/drive/My Drive/Colab Notebooks/TLAC/wiki_art.zip\""
      ],
      "execution_count": null,
      "outputs": []
    },
    {
      "cell_type": "code",
      "metadata": {
        "id": "LrqdHojAJ3By",
        "colab_type": "code",
        "colab": {}
      },
      "source": [
        "def set_organization(dset):\n",
        "  \n",
        "  path=\"/content/wiki_art/{}\".format(dset)\n",
        "\n",
        "  for filename in os.listdir(path):\n",
        "    os.rename(os.path.join(path, filename), os.path.join(path, re.sub('[^A-Za-z0-9]+(?![^.]*$)', '',filename)))\n",
        "\n",
        "  n_files = len(list(os.listdir(path)))\n",
        "  !ls $path\n",
        "  print(\"elements_{}_set={} \".format(dset,n_files))\n"
      ],
      "execution_count": null,
      "outputs": []
    },
    {
      "cell_type": "code",
      "metadata": {
        "id": "VdZIDPXs_9ev",
        "colab_type": "code",
        "colab": {}
      },
      "source": [
        "%%capture\n",
        "set_organization(\"train\")"
      ],
      "execution_count": null,
      "outputs": []
    },
    {
      "cell_type": "code",
      "metadata": {
        "id": "xg0xGrRqAwfH",
        "colab_type": "code",
        "colab": {}
      },
      "source": [
        "%%capture\n",
        "set_organization(\"test\")"
      ],
      "execution_count": null,
      "outputs": []
    },
    {
      "cell_type": "code",
      "metadata": {
        "id": "Fr0m4ZudEpwZ",
        "colab_type": "code",
        "colab": {
          "base_uri": "https://localhost:8080/",
          "height": 34
        },
        "outputId": "d4665722-9fcf-4184-c42e-551cd91bdfb6"
      },
      "source": [
        "path = Path('/content/wiki_art')\n",
        "path.ls()"
      ],
      "execution_count": null,
      "outputs": [
        {
          "output_type": "execute_result",
          "data": {
            "text/plain": [
              "(#2) [Path('/content/wiki_art/test'),Path('/content/wiki_art/train')]"
            ]
          },
          "metadata": {
            "tags": []
          },
          "execution_count": 10
        }
      ]
    },
    {
      "cell_type": "code",
      "metadata": {
        "id": "f-wz728mlNbo",
        "colab_type": "code",
        "colab": {}
      },
      "source": [
        "texts = get_files(path, extensions=['.txt'], folders=['train', 'test'])"
      ],
      "execution_count": null,
      "outputs": []
    },
    {
      "cell_type": "code",
      "metadata": {
        "id": "-1tm3aUZsMGa",
        "colab_type": "code",
        "colab": {}
      },
      "source": [
        "def read_file(f): return L(f.read().split(' '))"
      ],
      "execution_count": null,
      "outputs": []
    },
    {
      "cell_type": "code",
      "metadata": {
        "id": "BJC1LzMksRUO",
        "colab_type": "code",
        "colab": {
          "base_uri": "https://localhost:8080/",
          "height": 17
        },
        "outputId": "61cc07d0-4988-4998-df2d-871f8d23a0b0"
      },
      "source": [
        "splits = RandomSplitter(valid_pct=0.1)(texts)\n",
        "tfms = [Tokenizer.from_folder(path), Numericalize()]\n",
        "dsets = Datasets(texts, [tfms], splits=splits, dl_type=LMDataLoader)"
      ],
      "execution_count": null,
      "outputs": [
        {
          "output_type": "display_data",
          "data": {
            "text/html": [
              ""
            ],
            "text/plain": [
              "<IPython.core.display.HTML object>"
            ]
          },
          "metadata": {
            "tags": []
          }
        }
      ]
    },
    {
      "cell_type": "code",
      "metadata": {
        "id": "GZgnzpNi3Joj",
        "colab_type": "code",
        "colab": {}
      },
      "source": [
        "pickle.dump(dsets, open(f'/content/dsets.pkl','wb'))"
      ],
      "execution_count": null,
      "outputs": []
    },
    {
      "cell_type": "code",
      "metadata": {
        "id": "RzMlfU35M7a8",
        "colab_type": "code",
        "colab": {}
      },
      "source": [
        "!zip -r \"/content/wiki_art_tok.zip\" \"/content/wiki_art_tok/\""
      ],
      "execution_count": null,
      "outputs": []
    },
    {
      "cell_type": "code",
      "metadata": {
        "id": "aRoBiHxd1Tb-",
        "colab_type": "code",
        "colab": {}
      },
      "source": [
        "!mv \"/content/dsets.pkl\" \"/content/drive/My Drive/Colab Notebooks/TLAC\""
      ],
      "execution_count": null,
      "outputs": []
    },
    {
      "cell_type": "code",
      "metadata": {
        "colab_type": "code",
        "id": "W678iNRD8FdJ",
        "colab": {}
      },
      "source": [
        "!mv \"/content/wiki_art_tok.zip\" \"/content/drive/My Drive/Colab Notebooks/TLAC\""
      ],
      "execution_count": null,
      "outputs": []
    },
    {
      "cell_type": "markdown",
      "metadata": {
        "id": "wfvzvPxA-zpW",
        "colab_type": "text"
      },
      "source": [
        "# Language model\n",
        "\n"
      ]
    },
    {
      "cell_type": "code",
      "metadata": {
        "colab_type": "code",
        "id": "HOUuytmv15qG",
        "colab": {}
      },
      "source": [
        "drive.mount('/content/drive/')"
      ],
      "execution_count": null,
      "outputs": []
    },
    {
      "cell_type": "code",
      "metadata": {
        "id": "ORpmn5in1_os",
        "colab_type": "code",
        "colab": {}
      },
      "source": [
        "!unzip -q \"/content/drive/My Drive/Colab Notebooks/TLAC/wiki_art_tok.zip\""
      ],
      "execution_count": null,
      "outputs": []
    },
    {
      "cell_type": "code",
      "metadata": {
        "id": "RQUAi6ytCpMt",
        "colab_type": "code",
        "colab": {}
      },
      "source": [
        "%%capture\n",
        "!unzip /content/wiki_art_tok.zip"
      ],
      "execution_count": null,
      "outputs": []
    },
    {
      "cell_type": "code",
      "metadata": {
        "id": "PELiq8kCGeki",
        "colab_type": "code",
        "colab": {}
      },
      "source": [
        "!mv \"/content/content/wiki_art_tok\" \"/content/\""
      ],
      "execution_count": null,
      "outputs": []
    },
    {
      "cell_type": "code",
      "metadata": {
        "id": "PV6v1wWC4k6_",
        "colab_type": "code",
        "colab": {}
      },
      "source": [
        "dsets = pickle.load(open(f'/content/drive/My Drive/Colab Notebooks/TLAC/dsets.pkl','rb'))"
      ],
      "execution_count": null,
      "outputs": []
    },
    {
      "cell_type": "code",
      "metadata": {
        "id": "r06vFynuAfBc",
        "colab_type": "code",
        "colab": {}
      },
      "source": [
        "dsets #wiki_art_tok"
      ],
      "execution_count": null,
      "outputs": []
    },
    {
      "cell_type": "code",
      "metadata": {
        "id": "8AasEbDD0Kf4",
        "colab_type": "code",
        "colab": {}
      },
      "source": [
        "bs,sl=64,80\n",
        "dbunch_lm = dsets.dataloaders(bs=bs, seq_len=sl, val_bs=bs)"
      ],
      "execution_count": null,
      "outputs": []
    },
    {
      "cell_type": "code",
      "metadata": {
        "id": "OgCg1skT0UbS",
        "colab_type": "code",
        "colab": {
          "base_uri": "https://localhost:8080/",
          "height": 1000
        },
        "outputId": "33502166-1257-446d-888c-3dc5cde55a48"
      },
      "source": [
        "dbunch_lm.show_batch()"
      ],
      "execution_count": null,
      "outputs": [
        {
          "output_type": "display_data",
          "data": {
            "text/html": [
              "<table border=\"1\" class=\"dataframe\">\n",
              "  <thead>\n",
              "    <tr style=\"text-align: right;\">\n",
              "      <th></th>\n",
              "      <th>text</th>\n",
              "      <th>text_</th>\n",
              "    </tr>\n",
              "  </thead>\n",
              "  <tbody>\n",
              "    <tr>\n",
              "      <th>0</th>\n",
              "      <td>xxbos xxmaj xxunk xxmaj xxunk \\n\\n xxmaj abū ul - xxunk xxunk ibn xxmaj xxunk (; xxmaj granada , xxunk , octubre de 1485 ) fue el penúltimo sultán del xxmaj reino nazarí de xxmaj granada , llamado xxmaj xxunk xxmaj hasan o , por los cristianos , xxmaj xxunk xxmaj xxunk o xxmaj xxunk . \\n\\n xxmaj nacido en xxmaj granada en 1436 , creció bajo la protección de su padre , el sultán xxmaj abu xxmaj nasr xxmaj</td>\n",
              "      <td>xxmaj xxunk xxmaj xxunk \\n\\n xxmaj abū ul - xxunk xxunk ibn xxmaj xxunk (; xxmaj granada , xxunk , octubre de 1485 ) fue el penúltimo sultán del xxmaj reino nazarí de xxmaj granada , llamado xxmaj xxunk xxmaj hasan o , por los cristianos , xxmaj xxunk xxmaj xxunk o xxmaj xxunk . \\n\\n xxmaj nacido en xxmaj granada en 1436 , creció bajo la protección de su padre , el sultán xxmaj abu xxmaj nasr xxmaj xxunk</td>\n",
              "    </tr>\n",
              "    <tr>\n",
              "      <th>1</th>\n",
              "      <td>que intenta decir su primer nombre , siempre son interrumpidos por algún ruido . xxmaj el xxmaj sr . y la xxmaj sra . xxmaj turner creyeron que xxmaj xxunk sería niña y por ello , terminaron xxunk cosas de color rosado , incluyendo el gorro que haría característicos al personaje principal . \\n\\n xxmaj de acuerdo con un episodio ( \" una vida xxunk \" ) , si xxmaj xxunk no hubiera nacido , sus padres serían ultra millonarios</td>\n",
              "      <td>intenta decir su primer nombre , siempre son interrumpidos por algún ruido . xxmaj el xxmaj sr . y la xxmaj sra . xxmaj turner creyeron que xxmaj xxunk sería niña y por ello , terminaron xxunk cosas de color rosado , incluyendo el gorro que haría característicos al personaje principal . \\n\\n xxmaj de acuerdo con un episodio ( \" una vida xxunk \" ) , si xxmaj xxunk no hubiera nacido , sus padres serían ultra millonarios ,</td>\n",
              "    </tr>\n",
              "    <tr>\n",
              "      <th>2</th>\n",
              "      <td>. \\n\\n xxmaj los conflictos con aspectos de naturaleza racista más importantes de la historia de xxmaj españa tienen una vinculación estrecha con las luchas religiosas de la xxmaj edad xxmaj media , aunque no se puede atribuir únicamente a la religión y tienen claras expresiones racistas . xxmaj para los reinos cristianos , son fundamentalmente la xxmaj reconquista y la xxmaj repoblación ( que puede entenderse como una limpieza étnica ) . xxmaj simultáneamente , en xxmaj al -</td>\n",
              "      <td>\\n\\n xxmaj los conflictos con aspectos de naturaleza racista más importantes de la historia de xxmaj españa tienen una vinculación estrecha con las luchas religiosas de la xxmaj edad xxmaj media , aunque no se puede atribuir únicamente a la religión y tienen claras expresiones racistas . xxmaj para los reinos cristianos , son fundamentalmente la xxmaj reconquista y la xxmaj repoblación ( que puede entenderse como una limpieza étnica ) . xxmaj simultáneamente , en xxmaj al - ándalus</td>\n",
              "    </tr>\n",
              "    <tr>\n",
              "      <th>3</th>\n",
              "      <td>diamante por la xxup riaa y vendió más de 30 millones de copias en todo el mundo , convirtiéndose en el álbum recopilatorio más vendido por un solista en la historia . « xxunk xxmaj my xxmaj love » alcanzó el número uno en xxmaj estados xxmaj unidos y los diez primeros lugares en otros países alrededor del mundo . xxmaj el video musical realizado para su promoción contaba con escenas de sadomasoquismo , \" bondage \" , besos entre</td>\n",
              "      <td>por la xxup riaa y vendió más de 30 millones de copias en todo el mundo , convirtiéndose en el álbum recopilatorio más vendido por un solista en la historia . « xxunk xxmaj my xxmaj love » alcanzó el número uno en xxmaj estados xxmaj unidos y los diez primeros lugares en otros países alrededor del mundo . xxmaj el video musical realizado para su promoción contaba con escenas de sadomasoquismo , \" bondage \" , besos entre personas</td>\n",
              "    </tr>\n",
              "    <tr>\n",
              "      <th>4</th>\n",
              "      <td>puente , después de atravesar 200   m de terreno abierto bajo fuego enemigo . xxmaj las fuerzas alemanas se retiraron de ambos lados del puente , el cual fue ocupado rápidamente por tanques irlandeses y el 2 . ° xxmaj batallón de la división . xxmaj el puente fue finalmente tomado por los xxmaj aliados después de cuatro días de combate . xxmaj la costosa operación fue llamada \" pequeña xxmaj omaha \" , en referencia a la playa</td>\n",
              "      <td>, después de atravesar 200   m de terreno abierto bajo fuego enemigo . xxmaj las fuerzas alemanas se retiraron de ambos lados del puente , el cual fue ocupado rápidamente por tanques irlandeses y el 2 . ° xxmaj batallón de la división . xxmaj el puente fue finalmente tomado por los xxmaj aliados después de cuatro días de combate . xxmaj la costosa operación fue llamada \" pequeña xxmaj omaha \" , en referencia a la playa de</td>\n",
              "    </tr>\n",
              "    <tr>\n",
              "      <th>5</th>\n",
              "      <td>la escuadra alemana provenía de alta mar hacia el este y la británica iba pegada a la costa hacia el norte . \\n\\n xxmaj xxunk pensó en un ataque rápido y viró hacía la escuadra alemana con el \" good xxmaj hope \" y sus cañones de 235 mm ; a su vez , xxmaj von xxmaj spee viró a babor y se colocó paralelo . xxmaj el disparó hacia el \" good xxmaj hope \" con un mayor peso</td>\n",
              "      <td>escuadra alemana provenía de alta mar hacia el este y la británica iba pegada a la costa hacia el norte . \\n\\n xxmaj xxunk pensó en un ataque rápido y viró hacía la escuadra alemana con el \" good xxmaj hope \" y sus cañones de 235 mm ; a su vez , xxmaj von xxmaj spee viró a babor y se colocó paralelo . xxmaj el disparó hacia el \" good xxmaj hope \" con un mayor peso y</td>\n",
              "    </tr>\n",
              "    <tr>\n",
              "      <th>6</th>\n",
              "      <td>detenido . xxmaj sin embargo , xxmaj conrad xxmaj xxunk xxunk por él y le fue permitido permanecer libre en xxmaj inglaterra . \\n\\n xxmaj en 1939 , xxmaj xxunk marcha a xxmaj hollywood para realizar un pequeño papel en la primera versión de \" adiós , xxmaj mr xxmaj chips \" de xxmaj sam xxmaj wood , y en 1942 aparece en sus dos películas más importantes . xxmaj una es \" now , xxmaj voyager ( la extraña</td>\n",
              "      <td>. xxmaj sin embargo , xxmaj conrad xxmaj xxunk xxunk por él y le fue permitido permanecer libre en xxmaj inglaterra . \\n\\n xxmaj en 1939 , xxmaj xxunk marcha a xxmaj hollywood para realizar un pequeño papel en la primera versión de \" adiós , xxmaj mr xxmaj chips \" de xxmaj sam xxmaj wood , y en 1942 aparece en sus dos películas más importantes . xxmaj una es \" now , xxmaj voyager ( la extraña pasajera</td>\n",
              "    </tr>\n",
              "    <tr>\n",
              "      <th>7</th>\n",
              "      <td>la parte superior de su escudo de armas . \\n\\n xxmaj la familia permaneció en el centro de la vida cívica y religiosa durante toda la xxmaj baja xxmaj edad xxmaj media . xxmaj en 1248 , después de haber dedicado toda su vida al servicio de xxmaj dios y de los pobres , xxmaj margherita xxmaj colonna murió . xxmaj como miembro de la xxmaj orden xxmaj franciscana , ella fue xxunk por el xxmaj papa xxmaj pío xxup</td>\n",
              "      <td>parte superior de su escudo de armas . \\n\\n xxmaj la familia permaneció en el centro de la vida cívica y religiosa durante toda la xxmaj baja xxmaj edad xxmaj media . xxmaj en 1248 , después de haber dedicado toda su vida al servicio de xxmaj dios y de los pobres , xxmaj margherita xxmaj colonna murió . xxmaj como miembro de la xxmaj orden xxmaj franciscana , ella fue xxunk por el xxmaj papa xxmaj pío xxup ix</td>\n",
              "    </tr>\n",
              "    <tr>\n",
              "      <th>8</th>\n",
              "      <td>) . xxmaj en sentido recíproco también se cumple , o sea , cualquier terna pitagórica se puede asociar con las longitudes de los dos xxunk y de la hipotenusa correspondiente , formando un triángulo rectángulo . \\n\\n a los números enteros formula_3 que satisfacen la ecuación xxunk de segundo grado formula_4 , se les llama números pitagóricos . \\n xxmaj las xxunk xxunk suelen representarse como ( \" a \" ,   \" b \" ,   \" c</td>\n",
              "      <td>. xxmaj en sentido recíproco también se cumple , o sea , cualquier terna pitagórica se puede asociar con las longitudes de los dos xxunk y de la hipotenusa correspondiente , formando un triángulo rectángulo . \\n\\n a los números enteros formula_3 que satisfacen la ecuación xxunk de segundo grado formula_4 , se les llama números pitagóricos . \\n xxmaj las xxunk xxunk suelen representarse como ( \" a \" ,   \" b \" ,   \" c \"</td>\n",
              "    </tr>\n",
              "  </tbody>\n",
              "</table>"
            ],
            "text/plain": [
              "<IPython.core.display.HTML object>"
            ]
          },
          "metadata": {
            "tags": []
          }
        }
      ]
    },
    {
      "cell_type": "code",
      "metadata": {
        "id": "2R_oBTfY0o_a",
        "colab_type": "code",
        "colab": {
          "base_uri": "https://localhost:8080/",
          "height": 17
        },
        "outputId": "c84ca156-f315-44b7-83e8-736dea2d2f0a"
      },
      "source": [
        "learn = language_model_learner(dbunch_lm, AWD_LSTM, drop_mult=0.3)"
      ],
      "execution_count": null,
      "outputs": [
        {
          "output_type": "display_data",
          "data": {
            "text/html": [
              ""
            ],
            "text/plain": [
              "<IPython.core.display.HTML object>"
            ]
          },
          "metadata": {
            "tags": []
          }
        }
      ]
    },
    {
      "cell_type": "code",
      "metadata": {
        "id": "VVG3G7VmAWe_",
        "colab_type": "code",
        "colab": {}
      },
      "source": [
        "learn.lr_find()"
      ],
      "execution_count": null,
      "outputs": []
    },
    {
      "cell_type": "code",
      "metadata": {
        "id": "YU-YNiO30yKY",
        "colab_type": "code",
        "colab": {}
      },
      "source": [
        "learn.fit_one_cycle(1, 1e-2)"
      ],
      "execution_count": null,
      "outputs": []
    },
    {
      "cell_type": "code",
      "metadata": {
        "id": "X84diVyWIe-a",
        "colab_type": "code",
        "colab": {}
      },
      "source": [
        "learn.save('wm1')"
      ],
      "execution_count": null,
      "outputs": []
    }
  ]
}