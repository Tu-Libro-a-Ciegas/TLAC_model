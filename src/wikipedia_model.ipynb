{
  "nbformat": 4,
  "nbformat_minor": 0,
  "metadata": {
    "colab": {
      "name": "wikipedia_model.ipynb",
      "provenance": [],
      "authorship_tag": "ABX9TyPrGHPDBa55yT3drp4OSxxi"
    },
    "kernelspec": {
      "name": "python3",
      "display_name": "Python 3"
    },
    "accelerator": "GPU"
  },
  "cells": [
    {
      "cell_type": "markdown",
      "metadata": {
        "id": "X9CZGePic3VD",
        "colab_type": "text"
      },
      "source": [
        "**Wikipedia spanish language model** "
      ]
    },
    {
      "cell_type": "code",
      "metadata": {
        "id": "5Jad23tW68xw",
        "colab_type": "code",
        "colab": {
          "base_uri": "https://localhost:8080/",
          "height": 102
        },
        "outputId": "32c11f13-bd77-451a-b82a-a3ce05047579"
      },
      "source": [
        "!pip install -q gwpy"
      ],
      "execution_count": 1,
      "outputs": [
        {
          "output_type": "stream",
          "text": [
            "\u001b[K     |████████████████████████████████| 1.4MB 13.6MB/s \n",
            "\u001b[K     |████████████████████████████████| 51kB 7.8MB/s \n",
            "\u001b[K     |████████████████████████████████| 61kB 8.8MB/s \n",
            "\u001b[K     |████████████████████████████████| 2.7MB 55.4MB/s \n",
            "\u001b[?25h  Building wheel for ligo-segments (setup.py) ... \u001b[?25l\u001b[?25hdone\n"
          ],
          "name": "stdout"
        }
      ]
    },
    {
      "cell_type": "code",
      "metadata": {
        "id": "TCM0-2g-ZKLg",
        "colab_type": "code",
        "colab": {}
      },
      "source": [
        "import zipfile\n",
        "from google.colab import drive\n",
        "from fastai.text import *\n",
        "import os\n",
        "import re"
      ],
      "execution_count": 6,
      "outputs": []
    },
    {
      "cell_type": "code",
      "metadata": {
        "id": "D6HMztMddV7m",
        "colab_type": "code",
        "colab": {}
      },
      "source": [
        "drive.mount('/content/drive/')"
      ],
      "execution_count": null,
      "outputs": []
    },
    {
      "cell_type": "code",
      "metadata": {
        "id": "SgPf2sqP3gpV",
        "colab_type": "code",
        "colab": {}
      },
      "source": [
        "#to not show cell output-- too long\n",
        "%%capture\n",
        "!unzip -q \"/content/drive/My Drive/Colab Notebooks/TLAC/wiki_art.zip\""
      ],
      "execution_count": null,
      "outputs": []
    },
    {
      "cell_type": "code",
      "metadata": {
        "id": "LrqdHojAJ3By",
        "colab_type": "code",
        "colab": {}
      },
      "source": [
        "def set_organization(dset):\n",
        "  \n",
        "  path=\"/content/wiki_art/{}\".format(dset)\n",
        "\n",
        "  for filename in os.listdir(path):\n",
        "    os.rename(os.path.join(path, filename), os.path.join(path, re.sub('[^A-Za-z0-9]+(?![^.]*$)', '',filename)))\n",
        "\n",
        "  n_files = len(list(os.listdir(path)))\n",
        "  !ls $path\n",
        "  print(\"elements_{}_set={} \".format(dset,n_files))\n"
      ],
      "execution_count": 12,
      "outputs": []
    },
    {
      "cell_type": "code",
      "metadata": {
        "id": "VdZIDPXs_9ev",
        "colab_type": "code",
        "colab": {}
      },
      "source": [
        "set_organization(\"train\")"
      ],
      "execution_count": null,
      "outputs": []
    },
    {
      "cell_type": "code",
      "metadata": {
        "id": "xg0xGrRqAwfH",
        "colab_type": "code",
        "colab": {}
      },
      "source": [
        "set_organization(\"test\")"
      ],
      "execution_count": null,
      "outputs": []
    },
    {
      "cell_type": "code",
      "metadata": {
        "id": "sAcKIIgHeJfm",
        "colab_type": "code",
        "colab": {}
      },
      "source": [
        "bs=16\n",
        "txt_proc =[OpenFileProcessor(),\n",
        "          TokenizeProcessor(tokenizer=Tokenizer(lang='es') ),\n",
        "          NumericalizeProcessor(max_vocab=10000)]\n",
        "\n",
        "#https://docs.fast.ai/text.data.html#TokenizeProcessor"
      ],
      "execution_count": 34,
      "outputs": []
    },
    {
      "cell_type": "code",
      "metadata": {
        "id": "Fr0m4ZudEpwZ",
        "colab_type": "code",
        "colab": {
          "base_uri": "https://localhost:8080/",
          "height": 34
        },
        "outputId": "6d97673c-77c5-4192-f52f-7d2953d1db96"
      },
      "source": [
        "from pathlib import Path\n",
        "\n",
        "path = Path('/content/wiki_art')\n",
        "path.ls()"
      ],
      "execution_count": 35,
      "outputs": [
        {
          "output_type": "execute_result",
          "data": {
            "text/plain": [
              "[PosixPath('/content/wiki_art/test'), PosixPath('/content/wiki_art/train')]"
            ]
          },
          "metadata": {
            "tags": []
          },
          "execution_count": 35
        }
      ]
    },
    {
      "cell_type": "code",
      "metadata": {
        "id": "k54CuinM4Hps",
        "colab_type": "code",
        "colab": {}
      },
      "source": [
        "data_lm = (TextList.from_folder(path,processor=txt_proc)\n",
        "          .filter_by_folder(include=['train', 'test']) \n",
        "          .split_by_rand_pct(0.1)\n",
        "          .label_for_lm() #predicting the next word given the previous ones          \n",
        "          .databunch(bs=bs))\n",
        "data_lm.save('data_lm.pkl')"
      ],
      "execution_count": null,
      "outputs": []
    },
    {
      "cell_type": "code",
      "metadata": {
        "id": "hUU0d5-7eLrR",
        "colab_type": "code",
        "colab": {}
      },
      "source": [
        "data_lm.show_batch()"
      ],
      "execution_count": null,
      "outputs": []
    },
    {
      "cell_type": "code",
      "metadata": {
        "id": "deR8HizA6ddY",
        "colab_type": "code",
        "colab": {}
      },
      "source": [
        "data_lm = load_data(path_art, 'data_lm.pkl', bs=bs)"
      ],
      "execution_count": null,
      "outputs": []
    }
  ]
}