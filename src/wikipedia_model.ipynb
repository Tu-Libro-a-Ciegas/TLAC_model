{
  "nbformat": 4,
  "nbformat_minor": 0,
  "metadata": {
    "colab": {
      "name": "wikipedia_model.ipynb",
      "provenance": [],
      "authorship_tag": "ABX9TyNarVNUgbly5acUxSahg7DB"
    },
    "kernelspec": {
      "name": "python3",
      "display_name": "Python 3"
    },
    "accelerator": "GPU"
  },
  "cells": [
    {
      "cell_type": "markdown",
      "metadata": {
        "id": "X9CZGePic3VD",
        "colab_type": "text"
      },
      "source": [
        "**Wikipedia spanish language model** "
      ]
    },
    {
      "cell_type": "code",
      "metadata": {
        "id": "5Jad23tW68xw",
        "colab_type": "code",
        "colab": {}
      },
      "source": [
        "!pip install -q gwpy"
      ],
      "execution_count": null,
      "outputs": []
    },
    {
      "cell_type": "code",
      "metadata": {
        "id": "VmI_4YecIG0I",
        "colab_type": "code",
        "colab": {}
      },
      "source": [
        "!git clone https://github.com/fastai/fastai2.git "
      ],
      "execution_count": null,
      "outputs": []
    },
    {
      "cell_type": "code",
      "metadata": {
        "id": "hJs2N8y2IyU6",
        "colab_type": "code",
        "colab": {}
      },
      "source": [
        "!pip install fastai2"
      ],
      "execution_count": null,
      "outputs": []
    },
    {
      "cell_type": "code",
      "metadata": {
        "id": "TCM0-2g-ZKLg",
        "colab_type": "code",
        "colab": {}
      },
      "source": [
        "from google.colab import drive\n",
        "import zipfile\n",
        "import os\n",
        "import re\n",
        "from pathlib import Path\n",
        "from fastai2.text.all import *\n",
        "import dill as pickle"
      ],
      "execution_count": 3,
      "outputs": []
    },
    {
      "cell_type": "markdown",
      "metadata": {
        "id": "dQLc4AoH9HEU",
        "colab_type": "text"
      },
      "source": [
        "# Data preparation (Only run to create pickle file)"
      ]
    },
    {
      "cell_type": "markdown",
      "metadata": {
        "id": "cL-GJbSP-9sO",
        "colab_type": "text"
      },
      "source": [
        "Connecting drive, train and test set organization, tokenization, numericalization and creation of LMDataLoader"
      ]
    },
    {
      "cell_type": "code",
      "metadata": {
        "id": "D6HMztMddV7m",
        "colab_type": "code",
        "colab": {}
      },
      "source": [
        "drive.mount('/content/drive/')"
      ],
      "execution_count": null,
      "outputs": []
    },
    {
      "cell_type": "code",
      "metadata": {
        "id": "SgPf2sqP3gpV",
        "colab_type": "code",
        "colab": {}
      },
      "source": [
        "#to not show cell output-- too long\n",
        "%%capture\n",
        "!unzip -q \"/content/drive/My Drive/Colab Notebooks/TLAC/wiki_art.zip\""
      ],
      "execution_count": 5,
      "outputs": []
    },
    {
      "cell_type": "code",
      "metadata": {
        "id": "LrqdHojAJ3By",
        "colab_type": "code",
        "colab": {}
      },
      "source": [
        "def set_organization(dset):\n",
        "  \n",
        "  path=\"/content/wiki_art/{}\".format(dset)\n",
        "\n",
        "  for filename in os.listdir(path):\n",
        "    os.rename(os.path.join(path, filename), os.path.join(path, re.sub('[^A-Za-z0-9]+(?![^.]*$)', '',filename)))\n",
        "\n",
        "  n_files = len(list(os.listdir(path)))\n",
        "  !ls $path\n",
        "  print(\"elements_{}_set={} \".format(dset,n_files))\n"
      ],
      "execution_count": 6,
      "outputs": []
    },
    {
      "cell_type": "code",
      "metadata": {
        "id": "VdZIDPXs_9ev",
        "colab_type": "code",
        "colab": {}
      },
      "source": [
        "%%capture\n",
        "set_organization(\"train\")"
      ],
      "execution_count": null,
      "outputs": []
    },
    {
      "cell_type": "code",
      "metadata": {
        "id": "xg0xGrRqAwfH",
        "colab_type": "code",
        "colab": {}
      },
      "source": [
        "%%capture\n",
        "set_organization(\"test\")"
      ],
      "execution_count": 43,
      "outputs": []
    },
    {
      "cell_type": "code",
      "metadata": {
        "id": "Fr0m4ZudEpwZ",
        "colab_type": "code",
        "colab": {}
      },
      "source": [
        "path = Path('/content/wiki_art')\n",
        "path.ls()"
      ],
      "execution_count": null,
      "outputs": []
    },
    {
      "cell_type": "code",
      "metadata": {
        "id": "f-wz728mlNbo",
        "colab_type": "code",
        "colab": {}
      },
      "source": [
        "texts = get_files(path, extensions=['.txt'], folders=['train', 'test'])"
      ],
      "execution_count": null,
      "outputs": []
    },
    {
      "cell_type": "code",
      "metadata": {
        "id": "-1tm3aUZsMGa",
        "colab_type": "code",
        "colab": {}
      },
      "source": [
        "def read_file(f): return L(f.read().split(' '))"
      ],
      "execution_count": 11,
      "outputs": []
    },
    {
      "cell_type": "code",
      "metadata": {
        "id": "BJC1LzMksRUO",
        "colab_type": "code",
        "colab": {}
      },
      "source": [
        "splits = RandomSplitter(valid_pct=0.1)(texts)\n",
        "tfms = [Tokenizer.from_folder(path), Numericalize()]\n",
        "dsets = Datasets(texts, [tfms], splits=splits, dl_type=LMDataLoader)"
      ],
      "execution_count": null,
      "outputs": []
    },
    {
      "cell_type": "code",
      "metadata": {
        "id": "GZgnzpNi3Joj",
        "colab_type": "code",
        "colab": {}
      },
      "source": [
        "pickle.dump(dsets, open(f'/content/dsets.pkl','wb'))"
      ],
      "execution_count": 44,
      "outputs": []
    },
    {
      "cell_type": "markdown",
      "metadata": {
        "id": "wfvzvPxA-zpW",
        "colab_type": "text"
      },
      "source": [
        "# Language model creation\n",
        "\n"
      ]
    },
    {
      "cell_type": "code",
      "metadata": {
        "id": "PV6v1wWC4k6_",
        "colab_type": "code",
        "colab": {}
      },
      "source": [
        "dsets = pickle.load(open(f'/content/dsets.pkl','rb'))"
      ],
      "execution_count": 38,
      "outputs": []
    },
    {
      "cell_type": "code",
      "metadata": {
        "id": "8AasEbDD0Kf4",
        "colab_type": "code",
        "colab": {}
      },
      "source": [
        "bs,sl=64,80\n",
        "dbunch_lm = dsets.dataloaders(bs=bs, seq_len=sl, val_bs=bs)"
      ],
      "execution_count": 45,
      "outputs": []
    },
    {
      "cell_type": "code",
      "metadata": {
        "id": "OgCg1skT0UbS",
        "colab_type": "code",
        "colab": {}
      },
      "source": [
        "dbunch_lm.show_batch()"
      ],
      "execution_count": null,
      "outputs": []
    },
    {
      "cell_type": "code",
      "metadata": {
        "id": "2R_oBTfY0o_a",
        "colab_type": "code",
        "colab": {}
      },
      "source": [
        "learn = language_model_learner(dbunch_lm, AWD_LSTM, drop_mult=0.3)"
      ],
      "execution_count": 47,
      "outputs": []
    },
    {
      "cell_type": "code",
      "metadata": {
        "id": "YU-YNiO30yKY",
        "colab_type": "code",
        "colab": {}
      },
      "source": [
        "learn.fit_one_cycle(1, 1e-2)"
      ],
      "execution_count": null,
      "outputs": []
    }
  ]
}