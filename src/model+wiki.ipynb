{
  "nbformat": 4,
  "nbformat_minor": 0,
  "metadata": {
    "colab": {
      "name": "model+wiki.ipynb",
      "provenance": [],
      "authorship_tag": "ABX9TyPNNJmiL9R9SV26yNr99hFQ"
    },
    "kernelspec": {
      "name": "python3",
      "display_name": "Python 3"
    },
    "accelerator": "GPU"
  },
  "cells": [
    {
      "cell_type": "code",
      "metadata": {
        "id": "OsFnoWMwuGyT",
        "colab_type": "code",
        "colab": {}
      },
      "source": [
        "!pip install fastai2"
      ],
      "execution_count": null,
      "outputs": []
    },
    {
      "cell_type": "code",
      "metadata": {
        "id": "xqo-jGAB4O0z",
        "colab_type": "code",
        "colab": {}
      },
      "source": [
        "!pip install langdetect"
      ],
      "execution_count": null,
      "outputs": []
    },
    {
      "cell_type": "code",
      "metadata": {
        "id": "ziWw8nW52KuE",
        "colab_type": "code",
        "colab": {}
      },
      "source": [
        "from google.cloud import bigquery\n",
        "from langdetect import detect\n",
        "from fastai2.text.all import *\n",
        "from google.colab import auth,drive"
      ],
      "execution_count": 7,
      "outputs": []
    },
    {
      "cell_type": "code",
      "metadata": {
        "id": "m3KN2wk5F3O9",
        "colab_type": "code",
        "colab": {
          "base_uri": "https://localhost:8080/",
          "height": 122
        },
        "outputId": "711f54e1-9927-4942-a466-921a7cb6d340"
      },
      "source": [
        "drive.mount('/content/drive/')"
      ],
      "execution_count": 8,
      "outputs": [
        {
          "output_type": "stream",
          "text": [
            "Go to this URL in a browser: https://accounts.google.com/o/oauth2/auth?client_id=947318989803-6bn6qk8qdgf4n4g3pfee6491hc0brc4i.apps.googleusercontent.com&redirect_uri=urn%3aietf%3awg%3aoauth%3a2.0%3aoob&response_type=code&scope=email%20https%3a%2f%2fwww.googleapis.com%2fauth%2fdocs.test%20https%3a%2f%2fwww.googleapis.com%2fauth%2fdrive%20https%3a%2f%2fwww.googleapis.com%2fauth%2fdrive.photos.readonly%20https%3a%2f%2fwww.googleapis.com%2fauth%2fpeopleapi.readonly\n",
            "\n",
            "Enter your authorization code:\n",
            "··········\n",
            "Mounted at /content/drive/\n"
          ],
          "name": "stdout"
        }
      ]
    },
    {
      "cell_type": "code",
      "metadata": {
        "id": "GGXaxQe-FDca",
        "colab_type": "code",
        "colab": {}
      },
      "source": [
        "auth.authenticate_user()"
      ],
      "execution_count": 9,
      "outputs": []
    },
    {
      "cell_type": "code",
      "metadata": {
        "id": "ICHu5wdwGFFs",
        "colab_type": "code",
        "colab": {}
      },
      "source": [
        "project_id = 'tlac-vision'\n",
        "\n",
        "client = bigquery.Client(project=project_id)\n",
        "df = client.query('''\n",
        "  SELECT\n",
        "    *\n",
        "  FROM\n",
        "    `tlac-vision.book_backend.train_categories`\n",
        "''').to_dataframe()"
      ],
      "execution_count": 10,
      "outputs": []
    },
    {
      "cell_type": "code",
      "metadata": {
        "id": "DfWP3207FScH",
        "colab_type": "code",
        "colab": {}
      },
      "source": [
        "# sorting dataframe by book category, from A to Z\n",
        "df = df.sort_values(['category'], ascending=True)\n",
        "# dropping duplicate rows\n",
        "df = df.drop_duplicates(['title']).reset_index(drop=True)"
      ],
      "execution_count": null,
      "outputs": []
    },
    {
      "cell_type": "code",
      "metadata": {
        "id": "8QMbMmm6rCtK",
        "colab_type": "code",
        "colab": {}
      },
      "source": [
        "# deleting results that are in other languages different to spanish\n",
        "df['language'] = \"\"\n",
        "for index, row in df.iterrows():\n",
        "    row['language'] = detect(row['description'])\n",
        "df = df[df.language == 'es']\n",
        "\n",
        "cat_count = df.iloc[:,0:2].groupby('category').count().rename(columns={'title': 'count'})  # total of registers per category"
      ],
      "execution_count": 12,
      "outputs": []
    },
    {
      "cell_type": "code",
      "metadata": {
        "id": "46xFDe_zrK0e",
        "colab_type": "code",
        "colab": {}
      },
      "source": [
        "# 75% of data is for training\n",
        "cat_count['training'] = round(0.75 * cat_count['count'], 0)\n",
        "# organizing indexes to split data\n",
        "cat_count['acum'] = cat_count['count'].cumsum()\n",
        "cat_count['init_idx'] = cat_count['acum'] - cat_count['count']\n",
        "cat_count['train_idx'] = cat_count['init_idx'] + cat_count['training']"
      ],
      "execution_count": 13,
      "outputs": []
    },
    {
      "cell_type": "code",
      "metadata": {
        "id": "1QlSXH1UTwpl",
        "colab_type": "code",
        "colab": {
          "base_uri": "https://localhost:8080/",
          "height": 612
        },
        "outputId": "529086fa-5ca6-4b66-9906-b9a8077e2346"
      },
      "source": [
        "# creating training set with 75% of data per category\n",
        "train_set = pd.DataFrame(data=None, columns=df.columns)\n",
        "for i in range(len(cat_count)):\n",
        "    i_idx = int(cat_count.iloc[i, 3])\n",
        "    f_idx = int(cat_count.iloc[i, 4])\n",
        "    train_set = train_set.append(df.iloc[i_idx:f_idx, :])\n",
        "\n",
        "train_set_f = train_set.loc[:, ['category', 'description']]\n",
        "train_set_f['is_valid']=False\n",
        "train_set_f.iloc[0:5,]"
      ],
      "execution_count": 14,
      "outputs": [
        {
          "output_type": "execute_result",
          "data": {
            "text/html": [
              "<div>\n",
              "<style scoped>\n",
              "    .dataframe tbody tr th:only-of-type {\n",
              "        vertical-align: middle;\n",
              "    }\n",
              "\n",
              "    .dataframe tbody tr th {\n",
              "        vertical-align: top;\n",
              "    }\n",
              "\n",
              "    .dataframe thead th {\n",
              "        text-align: right;\n",
              "    }\n",
              "</style>\n",
              "<table border=\"1\" class=\"dataframe\">\n",
              "  <thead>\n",
              "    <tr style=\"text-align: right;\">\n",
              "      <th></th>\n",
              "      <th>category</th>\n",
              "      <th>description</th>\n",
              "      <th>is_valid</th>\n",
              "    </tr>\n",
              "  </thead>\n",
              "  <tbody>\n",
              "    <tr>\n",
              "      <th>0</th>\n",
              "      <td>anthropology</td>\n",
              "      <td>\"Después de 60 años como misionero en el Perú y con una admirable trayectoria en sus estudios de antropología amazónica, el P. Ricardo Álvarez Lobo presenta esta gran obra en la que se evocan los momentos más importantes de su vida, al tiempo que ofrece diversos ensayos antropológicos derivados de su trabajo misionero con poblaciones indígenas en el Bajo Urubamba. La presencia misionera de la orden dominicana en la Amazonía peruana ha estado marcada desde inicios del siglo XX por el testimonio de grandes misioneros y su compromiso permanente con las poblaciones nativas. Los escritos del P....</td>\n",
              "      <td>False</td>\n",
              "    </tr>\n",
              "    <tr>\n",
              "      <th>1</th>\n",
              "      <td>anthropology</td>\n",
              "      <td>A lo largo de los últimos cien años la antropología ha realizado contribuciones fundamentales a la comprensión del mundo. No obstante, no tenía una guía de referencia breve y de fácil acceso que proporcionara información sobre temas de importancia, conceptos significativos, metodologías y teorías, junto con una guía bibliográfica clave. Este diccionario se concentra en temas de antropología cultural y social, pero también incluye aspectos relacionados de arqueología, antropología física y ling ̧ística. No intenta establecer o definir los límites de un vocabulario canónico, pero busca los e...</td>\n",
              "      <td>False</td>\n",
              "    </tr>\n",
              "    <tr>\n",
              "      <th>2</th>\n",
              "      <td>anthropology</td>\n",
              "      <td>En este libro, uno de los principales teoricos sociales de la actualidad acomete el tema que mas ha fascinado a los cientificos sociales durante los ultimos anos: la cultura. Bauman pretende clasificar los significados de la cultura distinguiendo entre la cultura como concepto, la cultura como estructura y la cultura como praxis. Analiza, por consiguiente, las diferentes formas en que se utiliza en cada uno de dichos ambitos. Enfrentado al enfoque relativista, Bauman recela de aquellos tratamientos que abordan la cultura en forma de reportajes. Para Bauman, se trata de un aspecto vivo y ca...</td>\n",
              "      <td>False</td>\n",
              "    </tr>\n",
              "    <tr>\n",
              "      <th>3</th>\n",
              "      <td>anthropology</td>\n",
              "      <td>El fuego, presente ya en los inicios del proceso de hominización, fue motivo privilegiado de ritos solsticiales, profilácticos, comunitarios, etc. en todo tipo de sociedades y asimismo estuvo íntimamente unido a las conquistas civilizatorias, fuesen la agricultura o la máquina de vapor. En este volumen, el fuego es objeto de reflexión por parte de dieciocho expertos procedentes preferentemente del campo de la antropología social y con aportaciones de la mitografía, la historia del arte y la ecología.</td>\n",
              "      <td>False</td>\n",
              "    </tr>\n",
              "    <tr>\n",
              "      <th>4</th>\n",
              "      <td>anthropology</td>\n",
              "      <td>Este ambicioso tratado sobre el fenómeno religioso en América Latina es producto de una larga docencia universitaria y de investigaciones realizadas sobre el terreno en varios países. Aunque su enfoque es básicamente antropológico, incluye también una dimensión interdisciplinar y pretende ser útil a todos los estudiosos del hecho religioso. Consta de dos partes independientes. La primera es un análisis general del fenómeno religioso, en el que se exponen conceptos y teorías sobre el mismo: la religión y su especificidad, mito y rito, experiencia y éxtasis, ética y política, sincretismo, se...</td>\n",
              "      <td>False</td>\n",
              "    </tr>\n",
              "  </tbody>\n",
              "</table>\n",
              "</div>"
            ],
            "text/plain": [
              "       category  ... is_valid\n",
              "0  anthropology  ...    False\n",
              "1  anthropology  ...    False\n",
              "2  anthropology  ...    False\n",
              "3  anthropology  ...    False\n",
              "4  anthropology  ...    False\n",
              "\n",
              "[5 rows x 3 columns]"
            ]
          },
          "metadata": {
            "tags": []
          },
          "execution_count": 14
        }
      ]
    },
    {
      "cell_type": "code",
      "metadata": {
        "id": "O1k5VVqmrO7d",
        "colab_type": "code",
        "colab": {
          "base_uri": "https://localhost:8080/",
          "height": 612
        },
        "outputId": "b611da9b-4a1f-4b81-b4a4-e0836992b7a7"
      },
      "source": [
        "# creating validation set with 25% of data per category\n",
        "val_set = pd.DataFrame(data=None, columns=df.columns)\n",
        "for i in range(len(cat_count)):\n",
        "    i_idx = int(cat_count.iloc[i, 4])\n",
        "    f_idx = int(cat_count.iloc[i, 2])\n",
        "    val_set = val_set.append(df.iloc[i_idx:f_idx, :])\n",
        "\n",
        "val_set_f = val_set.loc[:, ['category', 'description']]\n",
        "val_set_f['is_valid']=True\n",
        "val_set_f.iloc[0:5,]"
      ],
      "execution_count": 15,
      "outputs": [
        {
          "output_type": "execute_result",
          "data": {
            "text/html": [
              "<div>\n",
              "<style scoped>\n",
              "    .dataframe tbody tr th:only-of-type {\n",
              "        vertical-align: middle;\n",
              "    }\n",
              "\n",
              "    .dataframe tbody tr th {\n",
              "        vertical-align: top;\n",
              "    }\n",
              "\n",
              "    .dataframe thead th {\n",
              "        text-align: right;\n",
              "    }\n",
              "</style>\n",
              "<table border=\"1\" class=\"dataframe\">\n",
              "  <thead>\n",
              "    <tr style=\"text-align: right;\">\n",
              "      <th></th>\n",
              "      <th>category</th>\n",
              "      <th>description</th>\n",
              "      <th>is_valid</th>\n",
              "    </tr>\n",
              "  </thead>\n",
              "  <tbody>\n",
              "    <tr>\n",
              "      <th>85</th>\n",
              "      <td>anthropology</td>\n",
              "      <td>Antología preparada en torno al axolote (o axólotl o ajolote), criatura casi mítica de Mesoamérica, presente en la obra plástica y escrita, desde los códices mesoamericanos hasta en las páginas de autores como Cortázar y Satoshi Tajiri. la antología reúne textos de Juan José Arreola (El ajolote) Primo Levi (Mariposa angelical), José Emilo pacheco (El reposo del fuego), Julio Cortázar (Axólotl), Octavio Paz (Salamandra) entre otros, y obra plástica, desde graffiti callejero hasta pintura de Diego Rivera o José María Velasco.</td>\n",
              "      <td>True</td>\n",
              "    </tr>\n",
              "    <tr>\n",
              "      <th>86</th>\n",
              "      <td>anthropology</td>\n",
              "      <td>Sirviéndose de los recursos metodológicos propios de la disciplina y poniendo de manifiesto su deuda con el pensamiento filosófico, «Las raíces filosóficas de la antropología» se sumerge en la prehistoria de la antropología. Al igual que la mayor parte de los antropólogos, William Adams, catedrático emérito de antropología de la Universidad de Kentucky. considera que las raíces intelectuales de la disciplina tienen su origen en la filosofía moral ilustrada o, como mucho, en el humanismo renacentista. Sin embargo, en esta obra Adams pone de manifiesto que buena parte de las principales idea...</td>\n",
              "      <td>True</td>\n",
              "    </tr>\n",
              "    <tr>\n",
              "      <th>87</th>\n",
              "      <td>anthropology</td>\n",
              "      <td>Este trabajo consta de dos partes bien diferenciadas. En la primera, se elabora y define un modelo de institucionalización que pueda facilitar la comprensión de otros procesos cuyos elementos no se nos presentan tan claramente definidos. La segunda parte es una búsqueda de aquellos elementos que condujeron a la institucionalización de la antropología como disciplina científica, tras ser objeto de intensos y ruidosos debates cuyo análisis constituye la parte central del trabajo. Índice: Sobre la historia de la antropología en Cataluña, por C. Esteva Fabregat.- Presentación.- La antropología...</td>\n",
              "      <td>True</td>\n",
              "    </tr>\n",
              "    <tr>\n",
              "      <th>88</th>\n",
              "      <td>anthropology</td>\n",
              "      <td>Los problemas de la bioética no solo son, en la actualidad, una preocupación universitaria. Se debaten en ámbitos muy dispares. Están en boca de los políticos, cuando tratan de regular la fecundación artificial, de los médicos, cuando se enfren-tan ante un caso de trasplante de órganos o de eu-tanasia, y de cualquier persona que se sienta interpelado por el valor de la vida humana y de su defensa. Nadie está hoy a margen de las discusiones en este campo. Y son muchos los conflictos que se generan. Este libro ofrece al lector un profundo estudio de los problemas bioéticos partiendo de la id...</td>\n",
              "      <td>True</td>\n",
              "    </tr>\n",
              "    <tr>\n",
              "      <th>89</th>\n",
              "      <td>anthropology</td>\n",
              "      <td>La ANTROPOLOGÍA kantiana, más que en la diversidad y relatividad de las culturas, se centra en los rasgos específicos de la especie humana, si bien para «ensanchar el volumen de la antropología» se recomiende viajar o al menos leer libros de viajes y prestar atención a las obras literarias y a las biografías, pues aunque en ellas la ficción invente y acuse ciertos rasgos, vienen a ser un extracto de la observación de lo que los hombres hacen debido a personas de inteligencia penetrante. En la primera parte se estudian sucesivamente las facultades intelectuales, conocimiento y sensibilidad,...</td>\n",
              "      <td>True</td>\n",
              "    </tr>\n",
              "  </tbody>\n",
              "</table>\n",
              "</div>"
            ],
            "text/plain": [
              "        category  ... is_valid\n",
              "85  anthropology  ...     True\n",
              "86  anthropology  ...     True\n",
              "87  anthropology  ...     True\n",
              "88  anthropology  ...     True\n",
              "89  anthropology  ...     True\n",
              "\n",
              "[5 rows x 3 columns]"
            ]
          },
          "metadata": {
            "tags": []
          },
          "execution_count": 15
        }
      ]
    },
    {
      "cell_type": "code",
      "metadata": {
        "id": "lyNcWHnzrT10",
        "colab_type": "code",
        "colab": {}
      },
      "source": [
        "dff = pd.concat([train_set_f, val_set_f]).reset_index(drop=True)"
      ],
      "execution_count": null,
      "outputs": []
    },
    {
      "cell_type": "code",
      "metadata": {
        "id": "6KJ_dH8lW8P_",
        "colab_type": "code",
        "colab": {
          "base_uri": "https://localhost:8080/",
          "height": 142
        },
        "outputId": "d04f556d-d125-492f-f962-f7be9be93e5c"
      },
      "source": [
        "count2=round(dff.iloc[:,1:3].groupby('is_valid').count().rename(columns={'description': '%'})/2478,3)\n",
        "count2"
      ],
      "execution_count": 17,
      "outputs": [
        {
          "output_type": "execute_result",
          "data": {
            "text/html": [
              "<div>\n",
              "<style scoped>\n",
              "    .dataframe tbody tr th:only-of-type {\n",
              "        vertical-align: middle;\n",
              "    }\n",
              "\n",
              "    .dataframe tbody tr th {\n",
              "        vertical-align: top;\n",
              "    }\n",
              "\n",
              "    .dataframe thead th {\n",
              "        text-align: right;\n",
              "    }\n",
              "</style>\n",
              "<table border=\"1\" class=\"dataframe\">\n",
              "  <thead>\n",
              "    <tr style=\"text-align: right;\">\n",
              "      <th></th>\n",
              "      <th>%</th>\n",
              "    </tr>\n",
              "    <tr>\n",
              "      <th>is_valid</th>\n",
              "      <th></th>\n",
              "    </tr>\n",
              "  </thead>\n",
              "  <tbody>\n",
              "    <tr>\n",
              "      <th>False</th>\n",
              "      <td>0.749</td>\n",
              "    </tr>\n",
              "    <tr>\n",
              "      <th>True</th>\n",
              "      <td>0.250</td>\n",
              "    </tr>\n",
              "  </tbody>\n",
              "</table>\n",
              "</div>"
            ],
            "text/plain": [
              "              %\n",
              "is_valid       \n",
              "False     0.749\n",
              "True      0.250"
            ]
          },
          "metadata": {
            "tags": []
          },
          "execution_count": 17
        }
      ]
    },
    {
      "cell_type": "code",
      "metadata": {
        "id": "qfvYgq2Cc8fl",
        "colab_type": "code",
        "colab": {}
      },
      "source": [
        "dsets = pickle.load(open(f'/content/drive/My Drive/Colab Notebooks/TLAC/dsets.pkl','rb'))"
      ],
      "execution_count": 18,
      "outputs": []
    },
    {
      "cell_type": "code",
      "metadata": {
        "id": "bvXBIAj1fNq3",
        "colab_type": "code",
        "colab": {}
      },
      "source": [
        "!unzip -q \"/content/drive/My Drive/Colab Notebooks/TLAC/wiki_art_tok.zip\""
      ],
      "execution_count": 19,
      "outputs": []
    },
    {
      "cell_type": "code",
      "metadata": {
        "id": "HhgFyVe2fJ2U",
        "colab_type": "code",
        "colab": {}
      },
      "source": [
        "!mv \"/content/content/wiki_art_tok\" \"/content/\""
      ],
      "execution_count": 20,
      "outputs": []
    },
    {
      "cell_type": "code",
      "metadata": {
        "id": "bakz3aX0K6tu",
        "colab_type": "code",
        "colab": {}
      },
      "source": [
        "bs,sl=32,80\n",
        "dbunch_lm = dsets.dataloaders(bs=bs, seq_len=sl, val_bs=bs)"
      ],
      "execution_count": 21,
      "outputs": []
    },
    {
      "cell_type": "code",
      "metadata": {
        "id": "_d99QxEyF-k4",
        "colab_type": "code",
        "colab": {}
      },
      "source": [
        "%%capture\n",
        "!unzip -q \"/content/drive/My Drive/Colab Notebooks/TLAC/models.zip\""
      ],
      "execution_count": 22,
      "outputs": []
    },
    {
      "cell_type": "code",
      "metadata": {
        "id": "-u87F-d6GA7-",
        "colab_type": "code",
        "colab": {}
      },
      "source": [
        "!mv \"/content/content/models\" \"/content/\""
      ],
      "execution_count": 23,
      "outputs": []
    },
    {
      "cell_type": "code",
      "metadata": {
        "id": "rfLuLvjbdE5R",
        "colab_type": "code",
        "colab": {}
      },
      "source": [
        "opt_func = partial(Adam, wd=0.1)\n",
        "learn = language_model_learner(dbunch_lm, AWD_LSTM, opt_func=opt_func, metrics=accuracy)\n",
        "learn = learn.to_fp16(clip=0.1)"
      ],
      "execution_count": 34,
      "outputs": []
    },
    {
      "cell_type": "code",
      "metadata": {
        "id": "eOi3jmSfcQMU",
        "colab_type": "code",
        "colab": {}
      },
      "source": [
        "bc_clas = DataBlock(blocks=(TextBlock.from_df('description', seq_len=sl, vocab=dbunch_lm.vocab), CategoryBlock),\n",
        "                      get_x=ColReader('text'),\n",
        "                      get_y=ColReader('category'),\n",
        "                      splitter=ColSplitter('is_valid'))"
      ],
      "execution_count": 35,
      "outputs": []
    },
    {
      "cell_type": "code",
      "metadata": {
        "id": "YYqbTM9ld18_",
        "colab_type": "code",
        "colab": {
          "base_uri": "https://localhost:8080/",
          "height": 17
        },
        "outputId": "bd5f75b2-45f8-4871-8ed9-4acbf095e2b0"
      },
      "source": [
        "dbunch_clas = bc_clas.dataloaders(dff, bs=bs)"
      ],
      "execution_count": 36,
      "outputs": [
        {
          "output_type": "display_data",
          "data": {
            "text/html": [
              ""
            ],
            "text/plain": [
              "<IPython.core.display.HTML object>"
            ]
          },
          "metadata": {
            "tags": []
          }
        }
      ]
    },
    {
      "cell_type": "code",
      "metadata": {
        "id": "niUICps1otsl",
        "colab_type": "code",
        "colab": {}
      },
      "source": [
        "dbunch_clas.show_batch()"
      ],
      "execution_count": null,
      "outputs": []
    },
    {
      "cell_type": "code",
      "metadata": {
        "id": "EfQvx8ZXoMCZ",
        "colab_type": "code",
        "colab": {
          "base_uri": "https://localhost:8080/",
          "height": 34
        },
        "outputId": "07d38d9a-6f4d-4543-a9c7-8c3d9b5cbf56"
      },
      "source": [
        "learn.load('wm1')"
      ],
      "execution_count": 38,
      "outputs": [
        {
          "output_type": "execute_result",
          "data": {
            "text/plain": [
              "<fastai2.text.learner.LMLearner at 0x7f7895ad5208>"
            ]
          },
          "metadata": {
            "tags": []
          },
          "execution_count": 38
        }
      ]
    },
    {
      "cell_type": "code",
      "metadata": {
        "id": "bmgnw1hOabaL",
        "colab_type": "code",
        "colab": {}
      },
      "source": [
        "learn.save_encoder('enc1')"
      ],
      "execution_count": 39,
      "outputs": []
    },
    {
      "cell_type": "code",
      "metadata": {
        "id": "SEkW-lTTVxdh",
        "colab_type": "code",
        "colab": {
          "base_uri": "https://localhost:8080/",
          "height": 34
        },
        "outputId": "9722400a-c89a-4c32-830d-1a54062f7fba"
      },
      "source": [
        "learn2 = text_classifier_learner(dbunch_clas, AWD_LSTM, drop_mult=0.01, metrics=accuracy).to_fp16()\n",
        "learn2.load_encoder('enc1')"
      ],
      "execution_count": 47,
      "outputs": [
        {
          "output_type": "execute_result",
          "data": {
            "text/plain": [
              "<fastai2.text.learner.TextLearner at 0x7f77a8f7d5c0>"
            ]
          },
          "metadata": {
            "tags": []
          },
          "execution_count": 47
        }
      ]
    },
    {
      "cell_type": "code",
      "metadata": {
        "id": "L2-C41IXaps3",
        "colab_type": "code",
        "colab": {
          "base_uri": "https://localhost:8080/",
          "height": 300
        },
        "outputId": "f36a83a4-0b79-488d-f33f-bbca9a225597"
      },
      "source": [
        "learn2.lr_find()"
      ],
      "execution_count": 48,
      "outputs": [
        {
          "output_type": "display_data",
          "data": {
            "text/html": [
              ""
            ],
            "text/plain": [
              "<IPython.core.display.HTML object>"
            ]
          },
          "metadata": {
            "tags": []
          }
        },
        {
          "output_type": "execute_result",
          "data": {
            "text/plain": [
              "SuggestedLRs(lr_min=0.014454397559165954, lr_steep=0.007585775572806597)"
            ]
          },
          "metadata": {
            "tags": []
          },
          "execution_count": 48
        },
        {
          "output_type": "display_data",
          "data": {
            "image/png": "[encoded data removed]",
            "text/plain": [
              "<Figure size 432x288 with 1 Axes>"
            ]
          },
          "metadata": {
            "tags": [],
            "needs_background": "light"
          }
        }
      ]
    },
    {
      "cell_type": "code",
      "metadata": {
        "id": "sr0HMJHBatqn",
        "colab_type": "code",
        "colab": {
          "base_uri": "https://localhost:8080/",
          "height": 142
        },
        "outputId": "87ab7435-4d8a-44f8-95e3-c0c6486f42e1"
      },
      "source": [
        "learn2.fit_one_cycle(3, 2e-2)"
      ],
      "execution_count": 56,
      "outputs": [
        {
          "output_type": "display_data",
          "data": {
            "text/html": [
              "<table border=\"1\" class=\"dataframe\">\n",
              "  <thead>\n",
              "    <tr style=\"text-align: left;\">\n",
              "      <th>epoch</th>\n",
              "      <th>train_loss</th>\n",
              "      <th>valid_loss</th>\n",
              "      <th>accuracy</th>\n",
              "      <th>time</th>\n",
              "    </tr>\n",
              "  </thead>\n",
              "  <tbody>\n",
              "    <tr>\n",
              "      <td>0</td>\n",
              "      <td>1.641876</td>\n",
              "      <td>4.555510</td>\n",
              "      <td>0.253226</td>\n",
              "      <td>00:07</td>\n",
              "    </tr>\n",
              "    <tr>\n",
              "      <td>1</td>\n",
              "      <td>1.232447</td>\n",
              "      <td>1.781625</td>\n",
              "      <td>0.508065</td>\n",
              "      <td>00:07</td>\n",
              "    </tr>\n",
              "    <tr>\n",
              "      <td>2</td>\n",
              "      <td>0.728011</td>\n",
              "      <td>1.745612</td>\n",
              "      <td>0.530645</td>\n",
              "      <td>00:07</td>\n",
              "    </tr>\n",
              "  </tbody>\n",
              "</table>"
            ],
            "text/plain": [
              "<IPython.core.display.HTML object>"
            ]
          },
          "metadata": {
            "tags": []
          }
        }
      ]
    },
    {
      "cell_type": "code",
      "metadata": {
        "id": "rxLux2Rmb0dS",
        "colab_type": "code",
        "colab": {
          "base_uri": "https://localhost:8080/",
          "height": 85
        },
        "outputId": "865ab1c4-98bb-402d-b8a5-7c8d41116e1c"
      },
      "source": [
        "learn2.predict(\"\"\"Tras otro abominable verano con los Dursley, Harry se dispone a iniciar\n",
        "el cuarto curso en Hogwarts, la famosa escuela de magia y hechicería. A\n",
        "sus catorce años, a Harry le gustaría ser un joven mago como los demás\n",
        "y dedicarse a aprender nuevos sortilegios, encontrarse con sus amigos\n",
        "Ron y Hermione y asistir con ellos a los Mundiales de quidditch. Sin\n",
        "embargo, al llegar al colegio le espera una gran sorpresa que lo obligará\n",
        "a enfrentarse a los desafíos más temibles de toda su vida. Si logra\n",
        "superarlos, habrá demostrado que ya no es un niño y que está preparado\n",
        "para vivir las nuevas y emocionantes experiencias que el futuro le\n",
        "depara.\"\"\")"
      ],
      "execution_count": 51,
      "outputs": [
        {
          "output_type": "display_data",
          "data": {
            "text/html": [
              ""
            ],
            "text/plain": [
              "<IPython.core.display.HTML object>"
            ]
          },
          "metadata": {
            "tags": []
          }
        },
        {
          "output_type": "execute_result",
          "data": {
            "text/plain": [
              "('education',\n",
              " tensor(3),\n",
              " tensor([5.6451e-06, 1.5729e-03, 5.8303e-04, 6.9896e-01, 1.2449e-06, 1.7399e-04,\n",
              "         7.5431e-04, 2.7849e-03, 2.9480e-01, 3.6265e-04, 4.9326e-07]))"
            ]
          },
          "metadata": {
            "tags": []
          },
          "execution_count": 51
        }
      ]
    }
  ]
}