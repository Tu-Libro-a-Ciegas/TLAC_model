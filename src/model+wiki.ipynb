{
  "nbformat": 4,
  "nbformat_minor": 0,
  "metadata": {
    "colab": {
      "name": "model+wiki.ipynb",
      "provenance": [],
      "authorship_tag": "ABX9TyMsNBN/jBk36pA3800lNwyw"
    },
    "kernelspec": {
      "name": "python3",
      "display_name": "Python 3"
    },
    "accelerator": "GPU"
  },
  "cells": [
    {
      "cell_type": "code",
      "metadata": {
        "id": "OsFnoWMwuGyT",
        "colab_type": "code",
        "colab": {}
      },
      "source": [
        "!pip install fastai2"
      ],
      "execution_count": null,
      "outputs": []
    },
    {
      "cell_type": "code",
      "metadata": {
        "id": "xqo-jGAB4O0z",
        "colab_type": "code",
        "colab": {}
      },
      "source": [
        "!pip install langdetect"
      ],
      "execution_count": null,
      "outputs": []
    },
    {
      "cell_type": "code",
      "metadata": {
        "id": "ziWw8nW52KuE",
        "colab_type": "code",
        "colab": {}
      },
      "source": [
        "from google.cloud import bigquery\n",
        "from langdetect import detect\n",
        "from fastai2.text.all import *\n",
        "from google.colab import auth,drive"
      ],
      "execution_count": 7,
      "outputs": []
    },
    {
      "cell_type": "code",
      "metadata": {
        "id": "m3KN2wk5F3O9",
        "colab_type": "code",
        "colab": {
          "base_uri": "https://localhost:8080/",
          "height": 122
        },
        "outputId": "711f54e1-9927-4942-a466-921a7cb6d340"
      },
      "source": [
        "drive.mount('/content/drive/')"
      ],
      "execution_count": 8,
      "outputs": [
        {
          "output_type": "stream",
          "text": [
            "Go to this URL in a browser: https://accounts.google.com/o/oauth2/auth?client_id=947318989803-6bn6qk8qdgf4n4g3pfee6491hc0brc4i.apps.googleusercontent.com&redirect_uri=urn%3aietf%3awg%3aoauth%3a2.0%3aoob&response_type=code&scope=email%20https%3a%2f%2fwww.googleapis.com%2fauth%2fdocs.test%20https%3a%2f%2fwww.googleapis.com%2fauth%2fdrive%20https%3a%2f%2fwww.googleapis.com%2fauth%2fdrive.photos.readonly%20https%3a%2f%2fwww.googleapis.com%2fauth%2fpeopleapi.readonly\n",
            "\n",
            "Enter your authorization code:\n",
            "··········\n",
            "Mounted at /content/drive/\n"
          ],
          "name": "stdout"
        }
      ]
    },
    {
      "cell_type": "code",
      "metadata": {
        "id": "GGXaxQe-FDca",
        "colab_type": "code",
        "colab": {}
      },
      "source": [
        "auth.authenticate_user()"
      ],
      "execution_count": 9,
      "outputs": []
    },
    {
      "cell_type": "code",
      "metadata": {
        "id": "ICHu5wdwGFFs",
        "colab_type": "code",
        "colab": {}
      },
      "source": [
        "project_id = 'tlac-vision'\n",
        "\n",
        "client = bigquery.Client(project=project_id)\n",
        "df = client.query('''\n",
        "  SELECT\n",
        "    *\n",
        "  FROM\n",
        "    `tlac-vision.book_backend.train_categories`\n",
        "''').to_dataframe()"
      ],
      "execution_count": 10,
      "outputs": []
    },
    {
      "cell_type": "code",
      "metadata": {
        "id": "DfWP3207FScH",
        "colab_type": "code",
        "colab": {}
      },
      "source": [
        "# sorting dataframe by book category, from A to Z\n",
        "df = df.sort_values(['category'], ascending=True)\n",
        "# dropping duplicate rows\n",
        "df = df.drop_duplicates(['title']).reset_index(drop=True)"
      ],
      "execution_count": null,
      "outputs": []
    },
    {
      "cell_type": "code",
      "metadata": {
        "id": "8QMbMmm6rCtK",
        "colab_type": "code",
        "colab": {}
      },
      "source": [
        "# deleting results that are in other languages different to spanish\n",
        "df['language'] = \"\"\n",
        "for index, row in df.iterrows():\n",
        "    row['language'] = detect(row['description'])\n",
        "df = df[df.language == 'es']\n",
        "\n",
        "cat_count = df.iloc[:,0:2].groupby('category').count().rename(columns={'title': 'count'})  # total of registers per category"
      ],
      "execution_count": 12,
      "outputs": []
    },
    {
      "cell_type": "code",
      "metadata": {
        "id": "46xFDe_zrK0e",
        "colab_type": "code",
        "colab": {}
      },
      "source": [
        "# 75% of data is for training\n",
        "cat_count['training'] = round(0.75 * cat_count['count'], 0)\n",
        "# organizing indexes to split data\n",
        "cat_count['acum'] = cat_count['count'].cumsum()\n",
        "cat_count['init_idx'] = cat_count['acum'] - cat_count['count']\n",
        "cat_count['train_idx'] = cat_count['init_idx'] + cat_count['training']"
      ],
      "execution_count": 13,
      "outputs": []
    },
    {
      "cell_type": "code",
      "metadata": {
        "id": "1QlSXH1UTwpl",
        "colab_type": "code",
        "colab": {
          "base_uri": "https://localhost:8080/",
          "height": 612
        },
        "outputId": "529086fa-5ca6-4b66-9906-b9a8077e2346"
      },
      "source": [
        "# creating training set with 75% of data per category\n",
        "train_set = pd.DataFrame(data=None, columns=df.columns)\n",
        "for i in range(len(cat_count)):\n",
        "    i_idx = int(cat_count.iloc[i, 3])\n",
        "    f_idx = int(cat_count.iloc[i, 4])\n",
        "    train_set = train_set.append(df.iloc[i_idx:f_idx, :])\n",
        "\n",
        "train_set_f = train_set.loc[:, ['category', 'description']]\n",
        "train_set_f['is_valid']=False\n",
        "train_set_f.iloc[0:5,]"
      ],
      "execution_count": 14,
      "outputs": [
        {
          "output_type": "execute_result",
          "data": {
            "text/html": [
              "<div>\n",
              "<style scoped>\n",
              "    .dataframe tbody tr th:only-of-type {\n",
              "        vertical-align: middle;\n",
              "    }\n",
              "\n",
              "    .dataframe tbody tr th {\n",
              "        vertical-align: top;\n",
              "    }\n",
              "\n",
              "    .dataframe thead th {\n",
              "        text-align: right;\n",
              "    }\n",
              "</style>\n",
              "<table border=\"1\" class=\"dataframe\">\n",
              "  <thead>\n",
              "    <tr style=\"text-align: right;\">\n",
              "      <th></th>\n",
              "      <th>category</th>\n",
              "      <th>description</th>\n",
              "      <th>is_valid</th>\n",
              "    </tr>\n",
              "  </thead>\n",
              "  <tbody>\n",
              "    <tr>\n",
              "      <th>0</th>\n",
              "      <td>anthropology</td>\n",
              "      <td>\"Después de 60 años como misionero en el Perú y con una admirable trayectoria en sus estudios de antropología amazónica, el P. Ricardo Álvarez Lobo presenta esta gran obra en la que se evocan los momentos más importantes de su vida, al tiempo que ofrece diversos ensayos antropológicos derivados de su trabajo misionero con poblaciones indígenas en el Bajo Urubamba. La presencia misionera de la orden dominicana en la Amazonía peruana ha estado marcada desde inicios del siglo XX por el testimonio de grandes misioneros y su compromiso permanente con las poblaciones nativas. Los escritos del P....</td>\n",
              "      <td>False</td>\n",
              "    </tr>\n",
              "    <tr>\n",
              "      <th>1</th>\n",
              "      <td>anthropology</td>\n",
              "      <td>A lo largo de los últimos cien años la antropología ha realizado contribuciones fundamentales a la comprensión del mundo. No obstante, no tenía una guía de referencia breve y de fácil acceso que proporcionara información sobre temas de importancia, conceptos significativos, metodologías y teorías, junto con una guía bibliográfica clave. Este diccionario se concentra en temas de antropología cultural y social, pero también incluye aspectos relacionados de arqueología, antropología física y ling ̧ística. No intenta establecer o definir los límites de un vocabulario canónico, pero busca los e...</td>\n",
              "      <td>False</td>\n",
              "    </tr>\n",
              "    <tr>\n",
              "      <th>2</th>\n",
              "      <td>anthropology</td>\n",
              "      <td>En este libro, uno de los principales teoricos sociales de la actualidad acomete el tema que mas ha fascinado a los cientificos sociales durante los ultimos anos: la cultura. Bauman pretende clasificar los significados de la cultura distinguiendo entre la cultura como concepto, la cultura como estructura y la cultura como praxis. Analiza, por consiguiente, las diferentes formas en que se utiliza en cada uno de dichos ambitos. Enfrentado al enfoque relativista, Bauman recela de aquellos tratamientos que abordan la cultura en forma de reportajes. Para Bauman, se trata de un aspecto vivo y ca...</td>\n",
              "      <td>False</td>\n",
              "    </tr>\n",
              "    <tr>\n",
              "      <th>3</th>\n",
              "      <td>anthropology</td>\n",
              "      <td>El fuego, presente ya en los inicios del proceso de hominización, fue motivo privilegiado de ritos solsticiales, profilácticos, comunitarios, etc. en todo tipo de sociedades y asimismo estuvo íntimamente unido a las conquistas civilizatorias, fuesen la agricultura o la máquina de vapor. En este volumen, el fuego es objeto de reflexión por parte de dieciocho expertos procedentes preferentemente del campo de la antropología social y con aportaciones de la mitografía, la historia del arte y la ecología.</td>\n",
              "      <td>False</td>\n",
              "    </tr>\n",
              "    <tr>\n",
              "      <th>4</th>\n",
              "      <td>anthropology</td>\n",
              "      <td>Este ambicioso tratado sobre el fenómeno religioso en América Latina es producto de una larga docencia universitaria y de investigaciones realizadas sobre el terreno en varios países. Aunque su enfoque es básicamente antropológico, incluye también una dimensión interdisciplinar y pretende ser útil a todos los estudiosos del hecho religioso. Consta de dos partes independientes. La primera es un análisis general del fenómeno religioso, en el que se exponen conceptos y teorías sobre el mismo: la religión y su especificidad, mito y rito, experiencia y éxtasis, ética y política, sincretismo, se...</td>\n",
              "      <td>False</td>\n",
              "    </tr>\n",
              "  </tbody>\n",
              "</table>\n",
              "</div>"
            ],
            "text/plain": [
              "       category  ... is_valid\n",
              "0  anthropology  ...    False\n",
              "1  anthropology  ...    False\n",
              "2  anthropology  ...    False\n",
              "3  anthropology  ...    False\n",
              "4  anthropology  ...    False\n",
              "\n",
              "[5 rows x 3 columns]"
            ]
          },
          "metadata": {
            "tags": []
          },
          "execution_count": 14
        }
      ]
    },
    {
      "cell_type": "code",
      "metadata": {
        "id": "O1k5VVqmrO7d",
        "colab_type": "code",
        "colab": {
          "base_uri": "https://localhost:8080/",
          "height": 612
        },
        "outputId": "b611da9b-4a1f-4b81-b4a4-e0836992b7a7"
      },
      "source": [
        "# creating validation set with 25% of data per category\n",
        "val_set = pd.DataFrame(data=None, columns=df.columns)\n",
        "for i in range(len(cat_count)):\n",
        "    i_idx = int(cat_count.iloc[i, 4])\n",
        "    f_idx = int(cat_count.iloc[i, 2])\n",
        "    val_set = val_set.append(df.iloc[i_idx:f_idx, :])\n",
        "\n",
        "val_set_f = val_set.loc[:, ['category', 'description']]\n",
        "val_set_f['is_valid']=True\n",
        "val_set_f.iloc[0:5,]"
      ],
      "execution_count": 15,
      "outputs": [
        {
          "output_type": "execute_result",
          "data": {
            "text/html": [
              "<div>\n",
              "<style scoped>\n",
              "    .dataframe tbody tr th:only-of-type {\n",
              "        vertical-align: middle;\n",
              "    }\n",
              "\n",
              "    .dataframe tbody tr th {\n",
              "        vertical-align: top;\n",
              "    }\n",
              "\n",
              "    .dataframe thead th {\n",
              "        text-align: right;\n",
              "    }\n",
              "</style>\n",
              "<table border=\"1\" class=\"dataframe\">\n",
              "  <thead>\n",
              "    <tr style=\"text-align: right;\">\n",
              "      <th></th>\n",
              "      <th>category</th>\n",
              "      <th>description</th>\n",
              "      <th>is_valid</th>\n",
              "    </tr>\n",
              "  </thead>\n",
              "  <tbody>\n",
              "    <tr>\n",
              "      <th>85</th>\n",
              "      <td>anthropology</td>\n",
              "      <td>Antología preparada en torno al axolote (o axólotl o ajolote), criatura casi mítica de Mesoamérica, presente en la obra plástica y escrita, desde los códices mesoamericanos hasta en las páginas de autores como Cortázar y Satoshi Tajiri. la antología reúne textos de Juan José Arreola (El ajolote) Primo Levi (Mariposa angelical), José Emilo pacheco (El reposo del fuego), Julio Cortázar (Axólotl), Octavio Paz (Salamandra) entre otros, y obra plástica, desde graffiti callejero hasta pintura de Diego Rivera o José María Velasco.</td>\n",
              "      <td>True</td>\n",
              "    </tr>\n",
              "    <tr>\n",
              "      <th>86</th>\n",
              "      <td>anthropology</td>\n",
              "      <td>Sirviéndose de los recursos metodológicos propios de la disciplina y poniendo de manifiesto su deuda con el pensamiento filosófico, «Las raíces filosóficas de la antropología» se sumerge en la prehistoria de la antropología. Al igual que la mayor parte de los antropólogos, William Adams, catedrático emérito de antropología de la Universidad de Kentucky. considera que las raíces intelectuales de la disciplina tienen su origen en la filosofía moral ilustrada o, como mucho, en el humanismo renacentista. Sin embargo, en esta obra Adams pone de manifiesto que buena parte de las principales idea...</td>\n",
              "      <td>True</td>\n",
              "    </tr>\n",
              "    <tr>\n",
              "      <th>87</th>\n",
              "      <td>anthropology</td>\n",
              "      <td>Este trabajo consta de dos partes bien diferenciadas. En la primera, se elabora y define un modelo de institucionalización que pueda facilitar la comprensión de otros procesos cuyos elementos no se nos presentan tan claramente definidos. La segunda parte es una búsqueda de aquellos elementos que condujeron a la institucionalización de la antropología como disciplina científica, tras ser objeto de intensos y ruidosos debates cuyo análisis constituye la parte central del trabajo. Índice: Sobre la historia de la antropología en Cataluña, por C. Esteva Fabregat.- Presentación.- La antropología...</td>\n",
              "      <td>True</td>\n",
              "    </tr>\n",
              "    <tr>\n",
              "      <th>88</th>\n",
              "      <td>anthropology</td>\n",
              "      <td>Los problemas de la bioética no solo son, en la actualidad, una preocupación universitaria. Se debaten en ámbitos muy dispares. Están en boca de los políticos, cuando tratan de regular la fecundación artificial, de los médicos, cuando se enfren-tan ante un caso de trasplante de órganos o de eu-tanasia, y de cualquier persona que se sienta interpelado por el valor de la vida humana y de su defensa. Nadie está hoy a margen de las discusiones en este campo. Y son muchos los conflictos que se generan. Este libro ofrece al lector un profundo estudio de los problemas bioéticos partiendo de la id...</td>\n",
              "      <td>True</td>\n",
              "    </tr>\n",
              "    <tr>\n",
              "      <th>89</th>\n",
              "      <td>anthropology</td>\n",
              "      <td>La ANTROPOLOGÍA kantiana, más que en la diversidad y relatividad de las culturas, se centra en los rasgos específicos de la especie humana, si bien para «ensanchar el volumen de la antropología» se recomiende viajar o al menos leer libros de viajes y prestar atención a las obras literarias y a las biografías, pues aunque en ellas la ficción invente y acuse ciertos rasgos, vienen a ser un extracto de la observación de lo que los hombres hacen debido a personas de inteligencia penetrante. En la primera parte se estudian sucesivamente las facultades intelectuales, conocimiento y sensibilidad,...</td>\n",
              "      <td>True</td>\n",
              "    </tr>\n",
              "  </tbody>\n",
              "</table>\n",
              "</div>"
            ],
            "text/plain": [
              "        category  ... is_valid\n",
              "85  anthropology  ...     True\n",
              "86  anthropology  ...     True\n",
              "87  anthropology  ...     True\n",
              "88  anthropology  ...     True\n",
              "89  anthropology  ...     True\n",
              "\n",
              "[5 rows x 3 columns]"
            ]
          },
          "metadata": {
            "tags": []
          },
          "execution_count": 15
        }
      ]
    },
    {
      "cell_type": "code",
      "metadata": {
        "id": "lyNcWHnzrT10",
        "colab_type": "code",
        "colab": {}
      },
      "source": [
        "dff = pd.concat([train_set_f, val_set_f]).reset_index(drop=True)"
      ],
      "execution_count": null,
      "outputs": []
    },
    {
      "cell_type": "code",
      "metadata": {
        "id": "6KJ_dH8lW8P_",
        "colab_type": "code",
        "colab": {
          "base_uri": "https://localhost:8080/",
          "height": 142
        },
        "outputId": "d04f556d-d125-492f-f962-f7be9be93e5c"
      },
      "source": [
        "count2=round(dff.iloc[:,1:3].groupby('is_valid').count().rename(columns={'description': '%'})/2478,3)\n",
        "count2"
      ],
      "execution_count": 17,
      "outputs": [
        {
          "output_type": "execute_result",
          "data": {
            "text/html": [
              "<div>\n",
              "<style scoped>\n",
              "    .dataframe tbody tr th:only-of-type {\n",
              "        vertical-align: middle;\n",
              "    }\n",
              "\n",
              "    .dataframe tbody tr th {\n",
              "        vertical-align: top;\n",
              "    }\n",
              "\n",
              "    .dataframe thead th {\n",
              "        text-align: right;\n",
              "    }\n",
              "</style>\n",
              "<table border=\"1\" class=\"dataframe\">\n",
              "  <thead>\n",
              "    <tr style=\"text-align: right;\">\n",
              "      <th></th>\n",
              "      <th>%</th>\n",
              "    </tr>\n",
              "    <tr>\n",
              "      <th>is_valid</th>\n",
              "      <th></th>\n",
              "    </tr>\n",
              "  </thead>\n",
              "  <tbody>\n",
              "    <tr>\n",
              "      <th>False</th>\n",
              "      <td>0.749</td>\n",
              "    </tr>\n",
              "    <tr>\n",
              "      <th>True</th>\n",
              "      <td>0.250</td>\n",
              "    </tr>\n",
              "  </tbody>\n",
              "</table>\n",
              "</div>"
            ],
            "text/plain": [
              "              %\n",
              "is_valid       \n",
              "False     0.749\n",
              "True      0.250"
            ]
          },
          "metadata": {
            "tags": []
          },
          "execution_count": 17
        }
      ]
    },
    {
      "cell_type": "code",
      "metadata": {
        "id": "qfvYgq2Cc8fl",
        "colab_type": "code",
        "colab": {}
      },
      "source": [
        "dsets = pickle.load(open(f'/content/drive/My Drive/Colab Notebooks/TLAC/dsets.pkl','rb'))"
      ],
      "execution_count": 18,
      "outputs": []
    },
    {
      "cell_type": "code",
      "metadata": {
        "id": "bvXBIAj1fNq3",
        "colab_type": "code",
        "colab": {}
      },
      "source": [
        "!unzip -q \"/content/drive/My Drive/Colab Notebooks/TLAC/wiki_art_tok.zip\""
      ],
      "execution_count": 19,
      "outputs": []
    },
    {
      "cell_type": "code",
      "metadata": {
        "id": "HhgFyVe2fJ2U",
        "colab_type": "code",
        "colab": {}
      },
      "source": [
        "!mv \"/content/content/wiki_art_tok\" \"/content/\""
      ],
      "execution_count": 20,
      "outputs": []
    },
    {
      "cell_type": "code",
      "metadata": {
        "id": "_d99QxEyF-k4",
        "colab_type": "code",
        "colab": {}
      },
      "source": [
        "%%capture\n",
        "!unzip -q \"/content/drive/My Drive/Colab Notebooks/TLAC/models.zip\""
      ],
      "execution_count": 22,
      "outputs": []
    },
    {
      "cell_type": "code",
      "metadata": {
        "id": "-u87F-d6GA7-",
        "colab_type": "code",
        "colab": {}
      },
      "source": [
        "!mv \"/content/content/models\" \"/content/\""
      ],
      "execution_count": 23,
      "outputs": []
    },
    {
      "cell_type": "code",
      "metadata": {
        "id": "bakz3aX0K6tu",
        "colab_type": "code",
        "colab": {}
      },
      "source": [
        "bs,sl=32,80\n",
        "dbunch_lm = dsets.dataloaders(bs=bs, seq_len=sl, val_bs=bs)"
      ],
      "execution_count": 21,
      "outputs": []
    },
    {
      "cell_type": "code",
      "metadata": {
        "id": "xzv9yi4KuYzG",
        "colab_type": "code",
        "colab": {
          "base_uri": "https://localhost:8080/",
          "height": 17
        },
        "outputId": "599e5802-c97e-4488-b51b-99ddf71a7ffb"
      },
      "source": [
        "dls = TextDataLoaders.from_df(dff, text_col='description', label_col='category', valid_col='is_valid',text_vocab=dbunch_lm.vocab,bs=bs, seq_len=sl, val_bs=bs)"
      ],
      "execution_count": 98,
      "outputs": [
        {
          "output_type": "display_data",
          "data": {
            "text/html": [
              ""
            ],
            "text/plain": [
              "<IPython.core.display.HTML object>"
            ]
          },
          "metadata": {
            "tags": []
          }
        }
      ]
    },
    {
      "cell_type": "code",
      "metadata": {
        "id": "mYCsTH9KuXnR",
        "colab_type": "code",
        "colab": {
          "base_uri": "https://localhost:8080/",
          "height": 482
        },
        "outputId": "ee69d9ab-2101-4f2e-bf4c-25b5d66a29a4"
      },
      "source": [
        "dls.show_batch(max_n=3)"
      ],
      "execution_count": 99,
      "outputs": [
        {
          "output_type": "display_data",
          "data": {
            "text/html": [
              "<table border=\"1\" class=\"dataframe\">\n",
              "  <thead>\n",
              "    <tr style=\"text-align: right;\">\n",
              "      <th></th>\n",
              "      <th>text</th>\n",
              "      <th>category</th>\n",
              "    </tr>\n",
              "  </thead>\n",
              "  <tbody>\n",
              "    <tr>\n",
              "      <th>0</th>\n",
              "      <td>xxbos xxmaj el propósito que se persigue con la edición de este libro es que sirva de orientación y primera aproximación a los conocimientos que el ingeniero o el técnico , en sus inicios profesionales , así como los estudiantes de grado o de doctorado , puedan necesitar para enfocar correctamente sus proyectos , o bien para orientar y apoyar sus estudios . xxmaj se ha elaborado a partir de los conocimientos del autor sobre la materia , con aportaciones de las obras consideradas seminales sobre cada tema , así como de las publicaciones técnico - científicas de indudable relevancia . xxmaj tabla de materias / xxmaj tabla de contenido ( español / xxmaj castellano ) : 1 . xxmaj gases ideales , gases perfectos y gases reales 1.1 ¿ qué se entiende por gas ? 1.2 xxmaj fluido ideal , gas ideal y gas perfecto 1.3 xxmaj leyes de</td>\n",
              "      <td>science</td>\n",
              "    </tr>\n",
              "    <tr>\n",
              "      <th>1</th>\n",
              "      <td>xxpad xxpad xxpad xxpad xxpad xxpad xxpad xxpad xxpad xxpad xxpad xxpad xxpad xxpad xxpad xxpad xxpad xxpad xxpad xxpad xxpad xxpad xxpad xxpad xxpad xxpad xxpad xxpad xxpad xxpad xxpad xxpad xxpad xxpad xxpad xxpad xxpad xxpad xxpad xxpad xxpad xxpad xxpad xxpad xxpad xxpad xxpad xxpad xxpad xxpad xxpad xxpad xxpad xxpad xxpad xxpad xxpad xxpad xxpad xxpad xxpad xxpad xxpad xxpad xxpad xxpad xxpad xxpad xxpad xxpad xxpad xxpad xxpad xxpad xxpad xxpad xxpad xxpad xxpad xxpad xxpad xxpad xxpad xxpad xxpad xxpad xxpad xxpad xxpad xxpad xxpad xxpad xxpad xxpad xxpad xxpad xxpad xxpad xxpad xxpad xxpad xxpad xxpad xxpad xxpad xxpad xxpad xxpad xxpad xxpad xxpad xxpad xxpad xxpad xxpad xxpad xxpad xxpad xxpad xxpad xxpad xxpad xxpad xxpad xxpad xxpad xxpad xxpad xxpad xxpad xxpad xxpad xxpad xxpad xxpad xxpad xxpad xxpad xxpad xxpad xxpad xxpad xxpad xxpad xxpad xxpad xxpad xxpad xxpad xxpad</td>\n",
              "      <td>art</td>\n",
              "    </tr>\n",
              "    <tr>\n",
              "      <th>2</th>\n",
              "      <td>xxpad xxpad xxpad xxpad xxpad xxpad xxpad xxpad xxpad xxpad xxpad xxpad xxpad xxpad xxpad xxpad xxpad xxpad xxpad xxpad xxpad xxpad xxpad xxpad xxpad xxpad xxpad xxpad xxpad xxpad xxpad xxpad xxpad xxpad xxpad xxpad xxpad xxpad xxpad xxpad xxpad xxpad xxpad xxpad xxpad xxpad xxpad xxpad xxpad xxpad xxpad xxpad xxpad xxpad xxpad xxpad xxpad xxpad xxpad xxpad xxpad xxpad xxpad xxpad xxpad xxpad xxpad xxpad xxpad xxpad xxpad xxpad xxpad xxpad xxpad xxpad xxpad xxpad xxpad xxpad xxpad xxpad xxpad xxpad xxpad xxpad xxpad xxpad xxpad xxpad xxpad xxpad xxpad xxpad xxpad xxpad xxpad xxpad xxpad xxpad xxpad xxpad xxpad xxpad xxpad xxpad xxpad xxpad xxpad xxpad xxpad xxpad xxpad xxpad xxpad xxpad xxpad xxpad xxpad xxpad xxpad xxpad xxpad xxpad xxpad xxpad xxpad xxpad xxpad xxpad xxpad xxpad xxpad xxpad xxpad xxpad xxpad xxpad xxpad xxpad xxpad xxpad xxpad xxpad xxpad xxpad xxpad xxpad xxpad xxpad</td>\n",
              "      <td>science</td>\n",
              "    </tr>\n",
              "  </tbody>\n",
              "</table>"
            ],
            "text/plain": [
              "<IPython.core.display.HTML object>"
            ]
          },
          "metadata": {
            "tags": []
          }
        }
      ]
    },
    {
      "cell_type": "code",
      "metadata": {
        "id": "rfLuLvjbdE5R",
        "colab_type": "code",
        "colab": {}
      },
      "source": [
        "opt_func = partial(Adam, wd=0.1)\n",
        "learn = language_model_learner(dbunch_lm, AWD_LSTM, opt_func=opt_func, metrics=accuracy)\n",
        "learn = learn.to_fp16(clip=0.1)"
      ],
      "execution_count": 100,
      "outputs": []
    },
    {
      "cell_type": "code",
      "metadata": {
        "id": "EfQvx8ZXoMCZ",
        "colab_type": "code",
        "colab": {
          "base_uri": "https://localhost:8080/",
          "height": 34
        },
        "outputId": "55490be1-a6a3-407e-9274-1b6d42ed16f5"
      },
      "source": [
        "learn.load('wm1')"
      ],
      "execution_count": 101,
      "outputs": [
        {
          "output_type": "execute_result",
          "data": {
            "text/plain": [
              "<fastai2.text.learner.LMLearner at 0x7f76e3420390>"
            ]
          },
          "metadata": {
            "tags": []
          },
          "execution_count": 101
        }
      ]
    },
    {
      "cell_type": "code",
      "metadata": {
        "id": "bmgnw1hOabaL",
        "colab_type": "code",
        "colab": {}
      },
      "source": [
        "learn.save_encoder('enc1')"
      ],
      "execution_count": 102,
      "outputs": []
    },
    {
      "cell_type": "code",
      "metadata": {
        "id": "SEkW-lTTVxdh",
        "colab_type": "code",
        "colab": {
          "base_uri": "https://localhost:8080/",
          "height": 34
        },
        "outputId": "8c3ccc2a-acc9-4de4-f1fa-c1ae6391daa5"
      },
      "source": [
        "learn2 = text_classifier_learner(dls, AWD_LSTM, drop_mult=0.01, metrics=accuracy,opt_func=opt_func).to_fp16()\n",
        "learn2.load_encoder('enc1')"
      ],
      "execution_count": 103,
      "outputs": [
        {
          "output_type": "execute_result",
          "data": {
            "text/plain": [
              "<fastai2.text.learner.TextLearner at 0x7f76e58323c8>"
            ]
          },
          "metadata": {
            "tags": []
          },
          "execution_count": 103
        }
      ]
    },
    {
      "cell_type": "code",
      "metadata": {
        "id": "L2-C41IXaps3",
        "colab_type": "code",
        "colab": {
          "base_uri": "https://localhost:8080/",
          "height": 301
        },
        "outputId": "4897c87a-cad3-489f-bcc1-61b123776fc9"
      },
      "source": [
        "learn2.lr_find()"
      ],
      "execution_count": 104,
      "outputs": [
        {
          "output_type": "display_data",
          "data": {
            "text/html": [
              ""
            ],
            "text/plain": [
              "<IPython.core.display.HTML object>"
            ]
          },
          "metadata": {
            "tags": []
          }
        },
        {
          "output_type": "execute_result",
          "data": {
            "text/plain": [
              "SuggestedLRs(lr_min=0.017378008365631102, lr_steep=0.0691830962896347)"
            ]
          },
          "metadata": {
            "tags": []
          },
          "execution_count": 104
        },
        {
          "output_type": "display_data",
          "data": {
            "image/png": "[encoded data removed]",
            "text/plain": [
              "<Figure size 432x288 with 1 Axes>"
            ]
          },
          "metadata": {
            "tags": [],
            "needs_background": "light"
          }
        }
      ]
    },
    {
      "cell_type": "code",
      "metadata": {
        "id": "sr0HMJHBatqn",
        "colab_type": "code",
        "colab": {
          "base_uri": "https://localhost:8080/",
          "height": 359
        },
        "outputId": "898adbd5-fb26-4186-8fec-e206a2e31e20"
      },
      "source": [
        "learn2.fit_one_cycle(10, 1e-2,moms=(0.8,0.7,0.8), wd=0.1)"
      ],
      "execution_count": 105,
      "outputs": [
        {
          "output_type": "display_data",
          "data": {
            "text/html": [
              "<table border=\"1\" class=\"dataframe\">\n",
              "  <thead>\n",
              "    <tr style=\"text-align: left;\">\n",
              "      <th>epoch</th>\n",
              "      <th>train_loss</th>\n",
              "      <th>valid_loss</th>\n",
              "      <th>accuracy</th>\n",
              "      <th>time</th>\n",
              "    </tr>\n",
              "  </thead>\n",
              "  <tbody>\n",
              "    <tr>\n",
              "      <td>0</td>\n",
              "      <td>1.788650</td>\n",
              "      <td>1.594525</td>\n",
              "      <td>0.487097</td>\n",
              "      <td>00:06</td>\n",
              "    </tr>\n",
              "    <tr>\n",
              "      <td>1</td>\n",
              "      <td>1.465536</td>\n",
              "      <td>1.549802</td>\n",
              "      <td>0.495161</td>\n",
              "      <td>00:06</td>\n",
              "    </tr>\n",
              "    <tr>\n",
              "      <td>2</td>\n",
              "      <td>1.176263</td>\n",
              "      <td>1.683026</td>\n",
              "      <td>0.522581</td>\n",
              "      <td>00:06</td>\n",
              "    </tr>\n",
              "    <tr>\n",
              "      <td>3</td>\n",
              "      <td>0.982069</td>\n",
              "      <td>1.726811</td>\n",
              "      <td>0.520968</td>\n",
              "      <td>00:06</td>\n",
              "    </tr>\n",
              "    <tr>\n",
              "      <td>4</td>\n",
              "      <td>0.802704</td>\n",
              "      <td>1.803389</td>\n",
              "      <td>0.525806</td>\n",
              "      <td>00:06</td>\n",
              "    </tr>\n",
              "    <tr>\n",
              "      <td>5</td>\n",
              "      <td>0.646349</td>\n",
              "      <td>1.960675</td>\n",
              "      <td>0.500000</td>\n",
              "      <td>00:06</td>\n",
              "    </tr>\n",
              "    <tr>\n",
              "      <td>6</td>\n",
              "      <td>0.484317</td>\n",
              "      <td>1.924482</td>\n",
              "      <td>0.512903</td>\n",
              "      <td>00:06</td>\n",
              "    </tr>\n",
              "    <tr>\n",
              "      <td>7</td>\n",
              "      <td>0.357583</td>\n",
              "      <td>2.056930</td>\n",
              "      <td>0.517742</td>\n",
              "      <td>00:06</td>\n",
              "    </tr>\n",
              "    <tr>\n",
              "      <td>8</td>\n",
              "      <td>0.282650</td>\n",
              "      <td>2.113155</td>\n",
              "      <td>0.516129</td>\n",
              "      <td>00:06</td>\n",
              "    </tr>\n",
              "    <tr>\n",
              "      <td>9</td>\n",
              "      <td>0.248535</td>\n",
              "      <td>2.085407</td>\n",
              "      <td>0.517742</td>\n",
              "      <td>00:06</td>\n",
              "    </tr>\n",
              "  </tbody>\n",
              "</table>"
            ],
            "text/plain": [
              "<IPython.core.display.HTML object>"
            ]
          },
          "metadata": {
            "tags": []
          }
        }
      ]
    },
    {
      "cell_type": "code",
      "metadata": {
        "id": "rxLux2Rmb0dS",
        "colab_type": "code",
        "colab": {
          "base_uri": "https://localhost:8080/",
          "height": 85
        },
        "outputId": "3cc224bd-7451-4f10-c4b7-e48d654d44bd"
      },
      "source": [
        "learn2.predict(\"\"\"Tras otro abominable verano con los Dursley, Harry se dispone a iniciar\n",
        "el cuarto curso en Hogwarts, la famosa escuela de magia y hechicería. A\n",
        "sus catorce años, a Harry le gustaría ser un joven mago como los demás\n",
        "y dedicarse a aprender nuevos sortilegios, encontrarse con sus amigos\n",
        "Ron y Hermione y asistir con ellos a los Mundiales de quidditch. Sin\n",
        "embargo, al llegar al colegio le espera una gran sorpresa que lo obligará\n",
        "a enfrentarse a los desafíos más temibles de toda su vida. Si logra\n",
        "superarlos, habrá demostrado que ya no es un niño y que está preparado\n",
        "para vivir las nuevas y emocionantes experiencias que el futuro le\n",
        "depara.\"\"\")"
      ],
      "execution_count": 106,
      "outputs": [
        {
          "output_type": "display_data",
          "data": {
            "text/html": [
              ""
            ],
            "text/plain": [
              "<IPython.core.display.HTML object>"
            ]
          },
          "metadata": {
            "tags": []
          }
        },
        {
          "output_type": "execute_result",
          "data": {
            "text/plain": [
              "('education',\n",
              " tensor(3),\n",
              " tensor([1.2628e-03, 2.4692e-02, 1.3394e-01, 4.0223e-01, 1.1679e-03, 1.4735e-03,\n",
              "         2.7885e-02, 1.7306e-02, 3.0303e-01, 8.6649e-02, 3.6393e-04]))"
            ]
          },
          "metadata": {
            "tags": []
          },
          "execution_count": 106
        }
      ]
    }
  ]
}