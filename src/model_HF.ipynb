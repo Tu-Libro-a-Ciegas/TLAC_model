{
  "nbformat": 4,
  "nbformat_minor": 0,
  "metadata": {
    "colab": {
      "name": "model_HF.ipynb",
      "provenance": [],
      "authorship_tag": "ABX9TyN900Vx+z4z93wVQsw54cOa"
    },
    "kernelspec": {
      "name": "python3",
      "display_name": "Python 3"
    },
    "accelerator": "GPU"
  },
  "cells": [
    {
      "cell_type": "code",
      "metadata": {
        "id": "xqo-jGAB4O0z",
        "colab_type": "code",
        "colab": {}
      },
      "source": [
        "!pip install langdetect"
      ],
      "execution_count": null,
      "outputs": []
    },
    {
      "cell_type": "code",
      "metadata": {
        "id": "ziWw8nW52KuE",
        "colab_type": "code",
        "colab": {}
      },
      "source": [
        "from google.cloud import bigquery\n",
        "from langdetect import detect\n",
        "from google.colab import auth,drive\n",
        "import pandas as pd"
      ],
      "execution_count": null,
      "outputs": []
    },
    {
      "cell_type": "code",
      "metadata": {
        "id": "m3KN2wk5F3O9",
        "colab_type": "code",
        "colab": {}
      },
      "source": [
        "drive.mount('/content/drive/')"
      ],
      "execution_count": null,
      "outputs": []
    },
    {
      "cell_type": "code",
      "metadata": {
        "id": "GGXaxQe-FDca",
        "colab_type": "code",
        "colab": {}
      },
      "source": [
        "auth.authenticate_user()"
      ],
      "execution_count": null,
      "outputs": []
    },
    {
      "cell_type": "code",
      "metadata": {
        "id": "ICHu5wdwGFFs",
        "colab_type": "code",
        "colab": {}
      },
      "source": [
        "project_id = 'tlac-vision'\n",
        "\n",
        "client = bigquery.Client(project=project_id)\n",
        "df = client.query('''\n",
        "  SELECT\n",
        "    *\n",
        "  FROM\n",
        "    `tlac-vision.book_backend.train_categories`\n",
        "''').to_dataframe()"
      ],
      "execution_count": null,
      "outputs": []
    },
    {
      "cell_type": "code",
      "metadata": {
        "id": "DfWP3207FScH",
        "colab_type": "code",
        "colab": {}
      },
      "source": [
        "# sorting dataframe by book category, from A to Z\n",
        "df = df.sort_values(['category'], ascending=True)\n",
        "# dropping duplicate rows\n",
        "df = df.drop_duplicates(['title']).reset_index(drop=True)"
      ],
      "execution_count": null,
      "outputs": []
    },
    {
      "cell_type": "code",
      "metadata": {
        "id": "8QMbMmm6rCtK",
        "colab_type": "code",
        "colab": {}
      },
      "source": [
        "# deleting results that are in other languages different to spanish\n",
        "df['language'] = \"\"\n",
        "for index, row in df.iterrows():\n",
        "    row['language'] = detect(row['description'])\n",
        "df = df[df.language == 'es']\n",
        "\n",
        "cat_count = df.iloc[:,0:2].groupby('category').count().rename(columns={'title': 'count'})  # total of registers per category"
      ],
      "execution_count": null,
      "outputs": []
    },
    {
      "cell_type": "code",
      "metadata": {
        "id": "46xFDe_zrK0e",
        "colab_type": "code",
        "colab": {}
      },
      "source": [
        "# 75% of data is for training\n",
        "cat_count['training'] = round(0.75 * cat_count['count'], 0)\n",
        "# organizing indexes to split data\n",
        "cat_count['acum'] = cat_count['count'].cumsum()\n",
        "cat_count['init_idx'] = cat_count['acum'] - cat_count['count']\n",
        "cat_count['train_idx'] = cat_count['init_idx'] + cat_count['training']"
      ],
      "execution_count": null,
      "outputs": []
    },
    {
      "cell_type": "code",
      "metadata": {
        "id": "1QlSXH1UTwpl",
        "colab_type": "code",
        "colab": {}
      },
      "source": [
        "# creating training set with 75% of data per category\n",
        "train_set = pd.DataFrame(data=None, columns=df.columns)\n",
        "for i in range(len(cat_count)):\n",
        "    i_idx = int(cat_count.iloc[i, 3])\n",
        "    f_idx = int(cat_count.iloc[i, 4])\n",
        "    train_set = train_set.append(df.iloc[i_idx:f_idx, :])\n",
        "\n",
        "train_set_f = train_set.loc[:, ['category', 'description']]\n",
        "train_set_f['is_valid']=False\n",
        "train_set_f.iloc[0:5,]"
      ],
      "execution_count": null,
      "outputs": []
    },
    {
      "cell_type": "code",
      "metadata": {
        "id": "O1k5VVqmrO7d",
        "colab_type": "code",
        "colab": {}
      },
      "source": [
        "# creating validation set with 25% of data per category\n",
        "val_set = pd.DataFrame(data=None, columns=df.columns)\n",
        "for i in range(len(cat_count)):\n",
        "    i_idx = int(cat_count.iloc[i, 4])\n",
        "    f_idx = int(cat_count.iloc[i, 2])\n",
        "    val_set = val_set.append(df.iloc[i_idx:f_idx, :])\n",
        "\n",
        "val_set_f = val_set.loc[:, ['category', 'description']]\n",
        "val_set_f['is_valid']=True\n",
        "val_set_f.iloc[0:5,]"
      ],
      "execution_count": null,
      "outputs": []
    },
    {
      "cell_type": "code",
      "metadata": {
        "id": "lyNcWHnzrT10",
        "colab_type": "code",
        "colab": {}
      },
      "source": [
        "dff = pd.concat([train_set_f, val_set_f]).reset_index(drop=True)"
      ],
      "execution_count": null,
      "outputs": []
    }
  ]
}